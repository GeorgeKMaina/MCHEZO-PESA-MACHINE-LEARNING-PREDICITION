{
  "nbformat": 4,
  "nbformat_minor": 0,
  "metadata": {
    "colab": {
      "name": "mchezo pesa game results predicition",
      "provenance": [],
      "collapsed_sections": [
        "LsJOgQ_w96sC",
        "CGDozMWO-iSN",
        "98TOofhb-nHv",
        "c5oDOHaz-uHj",
        "9SNlQ4sf-1AX",
        "mYhOcD3u-5a_",
        "61reQPzn_IyE",
        "1BrGzH_R_aXE",
        "bHsWBEUu_kmi",
        "cVDTeC8__syh",
        "dQDoRKNr_x6j",
        "SUTur6uS__Vx",
        "4Wx0B4KjBmXq",
        "w0VIRAHHCswc",
        "SlLS2KKxHsFB",
        "arrjf1CZFW3P",
        "GXveuN14Mcw_",
        "WLIEdafGW4I5",
        "o2xDGriTXAuz",
        "ZBvwRYWwXD9u",
        "Oqf_r9jJXF_N",
        "RoUv_DmUXIr0",
        "wFrTQ2EZGCzw",
        "6ufpqk8HGHU7",
        "Vhsu8hY_GJyw",
        "AySv3otCGPkZ",
        "YfZWsTA5GTse",
        "k4UmM-aNP7zK",
        "X1MMNPQUQ0nC",
        "nPOLfOltJHQl",
        "p5S8Q9q9JyPu",
        "iCoDLO4JEAu7",
        "R17L6SebNtxV",
        "X9KK08mKEGIF",
        "UZ4tzBRbZBTc",
        "rMHyRm4fncBq"
      ],
      "authorship_tag": "ABX9TyN/qMUz0sSe3y+mbXJw0Bpc",
      "include_colab_link": true
    },
    "kernelspec": {
      "name": "python3",
      "display_name": "Python 3"
    },
    "language_info": {
      "name": "python"
    }
  },
  "cells": [
    {
      "cell_type": "markdown",
      "metadata": {
        "id": "view-in-github",
        "colab_type": "text"
      },
      "source": [
        "<a href=\"https://colab.research.google.com/github/GeorgeKMaina/MCHEZO-PESA-MACHINE-LEARNING-PREDICITION/blob/main/mchezo_pesa_game_results_predicition.ipynb\" target=\"_parent\"><img src=\"https://colab.research.google.com/assets/colab-badge.svg\" alt=\"Open In Colab\"/></a>"
      ]
    },
    {
      "cell_type": "markdown",
      "metadata": {
        "id": "LsJOgQ_w96sC"
      },
      "source": [
        "#MCHEZO PESA GAME RESULTS PREDICTION USING"
      ]
    },
    {
      "cell_type": "markdown",
      "metadata": {
        "id": "CGDozMWO-iSN"
      },
      "source": [
        "###1. Defining the research objective"
      ]
    },
    {
      "cell_type": "markdown",
      "metadata": {
        "id": "98TOofhb-nHv"
      },
      "source": [
        "##### a) Specifying the Data Analytic Questions"
      ]
    },
    {
      "cell_type": "markdown",
      "metadata": {
        "id": "CkoNXu6Ue5VI"
      },
      "source": [
        "1. To select the best three variables that can be used to identify a win, draw or loss\n",
        "\n",
        "2. To predict if a game was a win or a loss from the home sides perspective\n",
        "3. To predict the score of both home and away team"
      ]
    },
    {
      "cell_type": "markdown",
      "metadata": {
        "id": "c5oDOHaz-uHj"
      },
      "source": [
        "##### b) Stating the Model Used"
      ]
    },
    {
      "cell_type": "markdown",
      "metadata": {
        "id": "jidLPpKOfNvV"
      },
      "source": [
        "1. Linear Discriminant Analysis to select the top three features that can help us explain whether a game is a win, draw or a loss\n",
        "2. Logisitc Regression to predict wether a game was a win,draw or a loss from the home team perspective\n",
        "3. Polynomial Regression to predict the number of goals scored by both home and away teams"
      ]
    },
    {
      "cell_type": "markdown",
      "metadata": {
        "id": "9SNlQ4sf-1AX"
      },
      "source": [
        "### 2. Recording the Experimental Design"
      ]
    },
    {
      "cell_type": "markdown",
      "metadata": {
        "id": "mYhOcD3u-5a_"
      },
      "source": [
        "##### a) Coming up with a research question"
      ]
    },
    {
      "cell_type": "markdown",
      "metadata": {
        "id": "hTqpBxJefrjv"
      },
      "source": [
        "What are the best three variables that can be used to identify a win, draw or loss ?"
      ]
    },
    {
      "cell_type": "markdown",
      "metadata": {
        "id": "61reQPzn_IyE"
      },
      "source": [
        "#####b) Cleaning the Dataset by deleting outliers, renaming messy column names, dropping observations with anomalies, dropping columns that will not be useful in the analysis"
      ]
    },
    {
      "cell_type": "markdown",
      "metadata": {
        "id": "1BrGzH_R_aXE"
      },
      "source": [
        "#####c) Carrying out univariate, bivariate, multivariate analysis"
      ]
    },
    {
      "cell_type": "markdown",
      "metadata": {
        "id": "bHsWBEUu_kmi"
      },
      "source": [
        "#####d) Modelling to get our predictions"
      ]
    },
    {
      "cell_type": "markdown",
      "metadata": {
        "id": "cVDTeC8__syh"
      },
      "source": [
        "###3. Metrics of success"
      ]
    },
    {
      "cell_type": "markdown",
      "metadata": {
        "id": "dQDoRKNr_x6j"
      },
      "source": [
        "##### To have a model with a good performance measure. The performance will be from the mtrics of success of the model which in this case is the confusion matrix"
      ]
    },
    {
      "cell_type": "markdown",
      "metadata": {
        "id": "SUTur6uS__Vx"
      },
      "source": [
        "###4. Relevance of the Dataset "
      ]
    },
    {
      "cell_type": "markdown",
      "metadata": {
        "id": "DycZ68jxAEUe"
      },
      "source": [
        "The Dataset contains annual records of football games played in different tournaments.\n",
        "\n",
        "Some of the columns included are name of home team, name of the away team, goals scored by both home and away team, country and city where the games were played in.\n",
        "\n",
        "The Dataset provided has the necessary columns that can enable us know if the game was won, lost, drawn."
      ]
    },
    {
      "cell_type": "markdown",
      "metadata": {
        "id": "4Wx0B4KjBmXq"
      },
      "source": [
        "#IMPORTING THE NECESSARY LIBRARIES THAT WE WILL USE"
      ]
    },
    {
      "cell_type": "code",
      "metadata": {
        "id": "Pn6Xgl-IBhCS"
      },
      "source": [
        "# libraries for reading the dataset & data cleaning\n",
        "import pandas as pd\n",
        "import numpy as np\n",
        "#libraries for plotting\n",
        "import matplotlib.pyplot as plt\n",
        "import seaborn as sns\n",
        "#libraries to use in modelling\n",
        "from sklearn.linear_model import LinearRegression\n",
        "from sklearn.preprocessing import PolynomialFeatures\n",
        "from sklearn.linear_model import LogisticRegression\n",
        "from sklearn.model_selection import KFold\n",
        "from sklearn.model_selection import train_test_split\n",
        "\n",
        "#metric to asses the performance of the model\n",
        "from sklearn.metrics import confusion_matrix"
      ],
      "execution_count": null,
      "outputs": []
    },
    {
      "cell_type": "markdown",
      "metadata": {
        "id": "w0VIRAHHCswc"
      },
      "source": [
        "#LOADING THE DATASET AND VIEWING SOME ASPECTS OF IT"
      ]
    },
    {
      "cell_type": "code",
      "metadata": {
        "id": "WE-gQnIIA99X"
      },
      "source": [
        "#loading the datasets that we will use for the analysis\n",
        "#we will first load the first dataset and create a copy of it\n",
        "result=pd.read_csv('/content/results.csv')\n",
        "results=result.copy() # creating a copy of the dataset\n",
        "\n",
        "#we will then creatre a second dataset and create a copy of it\n",
        "fifarankings=pd.read_csv('/content/fifa_ranking.csv')\n",
        "fifaranking=fifarankings.copy()\n",
        "# loading a dataset with descriprion of the columns\n",
        "description=pd.read_excel('/content/column descriptions details.xlsx',header=None)\n",
        "description.rename(columns={0:'Columns',1:'Description of column contents'},inplace=True)"
      ],
      "execution_count": null,
      "outputs": []
    },
    {
      "cell_type": "code",
      "metadata": {
        "colab": {
          "base_uri": "https://localhost:8080/"
        },
        "id": "nOWtLxDkbm9A",
        "outputId": "410a73a0-2c28-45f3-eea2-42c4272a23a4"
      },
      "source": [
        "description"
      ],
      "execution_count": null,
      "outputs": [
        {
          "output_type": "execute_result",
          "data": {
            "text/html": [
              "<div>\n",
              "<style scoped>\n",
              "    .dataframe tbody tr th:only-of-type {\n",
              "        vertical-align: middle;\n",
              "    }\n",
              "\n",
              "    .dataframe tbody tr th {\n",
              "        vertical-align: top;\n",
              "    }\n",
              "\n",
              "    .dataframe thead th {\n",
              "        text-align: right;\n",
              "    }\n",
              "</style>\n",
              "<table border=\"1\" class=\"dataframe\">\n",
              "  <thead>\n",
              "    <tr style=\"text-align: right;\">\n",
              "      <th></th>\n",
              "      <th>Columns</th>\n",
              "      <th>Description of column contents</th>\n",
              "    </tr>\n",
              "  </thead>\n",
              "  <tbody>\n",
              "    <tr>\n",
              "      <th>0</th>\n",
              "      <td>Date</td>\n",
              "      <td>date of the match</td>\n",
              "    </tr>\n",
              "    <tr>\n",
              "      <th>1</th>\n",
              "      <td>Home_team</td>\n",
              "      <td>the name of the home team</td>\n",
              "    </tr>\n",
              "    <tr>\n",
              "      <th>2</th>\n",
              "      <td>Away_team</td>\n",
              "      <td>the name of the away team</td>\n",
              "    </tr>\n",
              "    <tr>\n",
              "      <th>3</th>\n",
              "      <td>Home_score</td>\n",
              "      <td>full-time home team score including extra time...</td>\n",
              "    </tr>\n",
              "    <tr>\n",
              "      <th>4</th>\n",
              "      <td>Away_score</td>\n",
              "      <td>full-time away team score including extra time...</td>\n",
              "    </tr>\n",
              "    <tr>\n",
              "      <th>5</th>\n",
              "      <td>Tournament</td>\n",
              "      <td>the name of the tournament</td>\n",
              "    </tr>\n",
              "    <tr>\n",
              "      <th>6</th>\n",
              "      <td>City</td>\n",
              "      <td>the name of the city/town/administrative unit ...</td>\n",
              "    </tr>\n",
              "    <tr>\n",
              "      <th>7</th>\n",
              "      <td>Country</td>\n",
              "      <td>the name of the country where the match was pl...</td>\n",
              "    </tr>\n",
              "    <tr>\n",
              "      <th>8</th>\n",
              "      <td>Neutral</td>\n",
              "      <td>TRUE/FALSE column indicating whether the match...</td>\n",
              "    </tr>\n",
              "  </tbody>\n",
              "</table>\n",
              "</div>"
            ],
            "text/plain": [
              "       Columns                     Description of column contents\n",
              "0        Date                                   date of the match\n",
              "1    Home_team                          the name of the home team\n",
              "2   Away_team                           the name of the away team\n",
              "3   Home_score  full-time home team score including extra time...\n",
              "4  Away_score   full-time away team score including extra time...\n",
              "5  Tournament                          the name of the tournament\n",
              "6         City  the name of the city/town/administrative unit ...\n",
              "7      Country  the name of the country where the match was pl...\n",
              "8      Neutral  TRUE/FALSE column indicating whether the match..."
            ]
          },
          "metadata": {
            "tags": []
          },
          "execution_count": 3
        }
      ]
    },
    {
      "cell_type": "markdown",
      "metadata": {
        "id": "SlLS2KKxHsFB"
      },
      "source": [
        "### Results DataFrame"
      ]
    },
    {
      "cell_type": "code",
      "metadata": {
        "colab": {
          "base_uri": "https://localhost:8080/"
        },
        "id": "3Yv5JVBsII0j",
        "outputId": "8dbedb4d-3cfe-4476-e56a-78a1d810def2"
      },
      "source": [
        "print('shape of the results dataset:',results.shape)\n",
        "print('results dataset has ' + str(results.shape[0]) + ' rows and ' + str(results.shape[1]) +' columns')"
      ],
      "execution_count": null,
      "outputs": [
        {
          "output_type": "stream",
          "text": [
            "shape of the results dataset: (40839, 9)\n",
            "results dataset has 40839 rows and 9 columns\n"
          ],
          "name": "stdout"
        }
      ]
    },
    {
      "cell_type": "code",
      "metadata": {
        "colab": {
          "base_uri": "https://localhost:8080/"
        },
        "id": "kEJNVQEcEx3q",
        "outputId": "f2584ed5-2c20-4ca2-ad75-187d683c361a"
      },
      "source": [
        "#results first 5 rows\n",
        "results.head()"
      ],
      "execution_count": null,
      "outputs": [
        {
          "output_type": "execute_result",
          "data": {
            "text/html": [
              "<div>\n",
              "<style scoped>\n",
              "    .dataframe tbody tr th:only-of-type {\n",
              "        vertical-align: middle;\n",
              "    }\n",
              "\n",
              "    .dataframe tbody tr th {\n",
              "        vertical-align: top;\n",
              "    }\n",
              "\n",
              "    .dataframe thead th {\n",
              "        text-align: right;\n",
              "    }\n",
              "</style>\n",
              "<table border=\"1\" class=\"dataframe\">\n",
              "  <thead>\n",
              "    <tr style=\"text-align: right;\">\n",
              "      <th></th>\n",
              "      <th>date</th>\n",
              "      <th>home_team</th>\n",
              "      <th>away_team</th>\n",
              "      <th>home_score</th>\n",
              "      <th>away_score</th>\n",
              "      <th>tournament</th>\n",
              "      <th>city</th>\n",
              "      <th>country</th>\n",
              "      <th>neutral</th>\n",
              "    </tr>\n",
              "  </thead>\n",
              "  <tbody>\n",
              "    <tr>\n",
              "      <th>0</th>\n",
              "      <td>1872-11-30</td>\n",
              "      <td>Scotland</td>\n",
              "      <td>England</td>\n",
              "      <td>0</td>\n",
              "      <td>0</td>\n",
              "      <td>Friendly</td>\n",
              "      <td>Glasgow</td>\n",
              "      <td>Scotland</td>\n",
              "      <td>False</td>\n",
              "    </tr>\n",
              "    <tr>\n",
              "      <th>1</th>\n",
              "      <td>1873-03-08</td>\n",
              "      <td>England</td>\n",
              "      <td>Scotland</td>\n",
              "      <td>4</td>\n",
              "      <td>2</td>\n",
              "      <td>Friendly</td>\n",
              "      <td>London</td>\n",
              "      <td>England</td>\n",
              "      <td>False</td>\n",
              "    </tr>\n",
              "    <tr>\n",
              "      <th>2</th>\n",
              "      <td>1874-03-07</td>\n",
              "      <td>Scotland</td>\n",
              "      <td>England</td>\n",
              "      <td>2</td>\n",
              "      <td>1</td>\n",
              "      <td>Friendly</td>\n",
              "      <td>Glasgow</td>\n",
              "      <td>Scotland</td>\n",
              "      <td>False</td>\n",
              "    </tr>\n",
              "    <tr>\n",
              "      <th>3</th>\n",
              "      <td>1875-03-06</td>\n",
              "      <td>England</td>\n",
              "      <td>Scotland</td>\n",
              "      <td>2</td>\n",
              "      <td>2</td>\n",
              "      <td>Friendly</td>\n",
              "      <td>London</td>\n",
              "      <td>England</td>\n",
              "      <td>False</td>\n",
              "    </tr>\n",
              "    <tr>\n",
              "      <th>4</th>\n",
              "      <td>1876-03-04</td>\n",
              "      <td>Scotland</td>\n",
              "      <td>England</td>\n",
              "      <td>3</td>\n",
              "      <td>0</td>\n",
              "      <td>Friendly</td>\n",
              "      <td>Glasgow</td>\n",
              "      <td>Scotland</td>\n",
              "      <td>False</td>\n",
              "    </tr>\n",
              "  </tbody>\n",
              "</table>\n",
              "</div>"
            ],
            "text/plain": [
              "         date home_team away_team  ...     city   country neutral\n",
              "0  1872-11-30  Scotland   England  ...  Glasgow  Scotland   False\n",
              "1  1873-03-08   England  Scotland  ...   London   England   False\n",
              "2  1874-03-07  Scotland   England  ...  Glasgow  Scotland   False\n",
              "3  1875-03-06   England  Scotland  ...   London   England   False\n",
              "4  1876-03-04  Scotland   England  ...  Glasgow  Scotland   False\n",
              "\n",
              "[5 rows x 9 columns]"
            ]
          },
          "metadata": {
            "tags": []
          },
          "execution_count": 5
        }
      ]
    },
    {
      "cell_type": "code",
      "metadata": {
        "colab": {
          "base_uri": "https://localhost:8080/"
        },
        "id": "7Xs8mNXzF5AE",
        "outputId": "09d84434-70ea-4595-df0d-53b428b57f7d"
      },
      "source": [
        "#results dataframe last rows\n",
        "results.tail()"
      ],
      "execution_count": null,
      "outputs": [
        {
          "output_type": "execute_result",
          "data": {
            "text/html": [
              "<div>\n",
              "<style scoped>\n",
              "    .dataframe tbody tr th:only-of-type {\n",
              "        vertical-align: middle;\n",
              "    }\n",
              "\n",
              "    .dataframe tbody tr th {\n",
              "        vertical-align: top;\n",
              "    }\n",
              "\n",
              "    .dataframe thead th {\n",
              "        text-align: right;\n",
              "    }\n",
              "</style>\n",
              "<table border=\"1\" class=\"dataframe\">\n",
              "  <thead>\n",
              "    <tr style=\"text-align: right;\">\n",
              "      <th></th>\n",
              "      <th>date</th>\n",
              "      <th>home_team</th>\n",
              "      <th>away_team</th>\n",
              "      <th>home_score</th>\n",
              "      <th>away_score</th>\n",
              "      <th>tournament</th>\n",
              "      <th>city</th>\n",
              "      <th>country</th>\n",
              "      <th>neutral</th>\n",
              "    </tr>\n",
              "  </thead>\n",
              "  <tbody>\n",
              "    <tr>\n",
              "      <th>40834</th>\n",
              "      <td>2019-07-18</td>\n",
              "      <td>American Samoa</td>\n",
              "      <td>Tahiti</td>\n",
              "      <td>8</td>\n",
              "      <td>1</td>\n",
              "      <td>Pacific Games</td>\n",
              "      <td>Apia</td>\n",
              "      <td>Samoa</td>\n",
              "      <td>True</td>\n",
              "    </tr>\n",
              "    <tr>\n",
              "      <th>40835</th>\n",
              "      <td>2019-07-18</td>\n",
              "      <td>Fiji</td>\n",
              "      <td>Solomon Islands</td>\n",
              "      <td>4</td>\n",
              "      <td>4</td>\n",
              "      <td>Pacific Games</td>\n",
              "      <td>Apia</td>\n",
              "      <td>Samoa</td>\n",
              "      <td>True</td>\n",
              "    </tr>\n",
              "    <tr>\n",
              "      <th>40836</th>\n",
              "      <td>2019-07-19</td>\n",
              "      <td>Senegal</td>\n",
              "      <td>Algeria</td>\n",
              "      <td>0</td>\n",
              "      <td>1</td>\n",
              "      <td>African Cup of Nations</td>\n",
              "      <td>Cairo</td>\n",
              "      <td>Egypt</td>\n",
              "      <td>True</td>\n",
              "    </tr>\n",
              "    <tr>\n",
              "      <th>40837</th>\n",
              "      <td>2019-07-19</td>\n",
              "      <td>Tajikistan</td>\n",
              "      <td>North Korea</td>\n",
              "      <td>0</td>\n",
              "      <td>1</td>\n",
              "      <td>Intercontinental Cup</td>\n",
              "      <td>Ahmedabad</td>\n",
              "      <td>India</td>\n",
              "      <td>True</td>\n",
              "    </tr>\n",
              "    <tr>\n",
              "      <th>40838</th>\n",
              "      <td>2019-07-20</td>\n",
              "      <td>Papua New Guinea</td>\n",
              "      <td>Fiji</td>\n",
              "      <td>1</td>\n",
              "      <td>1</td>\n",
              "      <td>Pacific Games</td>\n",
              "      <td>Apia</td>\n",
              "      <td>Samoa</td>\n",
              "      <td>True</td>\n",
              "    </tr>\n",
              "  </tbody>\n",
              "</table>\n",
              "</div>"
            ],
            "text/plain": [
              "             date         home_team  ... country  neutral\n",
              "40834  2019-07-18    American Samoa  ...   Samoa     True\n",
              "40835  2019-07-18              Fiji  ...   Samoa     True\n",
              "40836  2019-07-19           Senegal  ...   Egypt     True\n",
              "40837  2019-07-19        Tajikistan  ...   India     True\n",
              "40838  2019-07-20  Papua New Guinea  ...   Samoa     True\n",
              "\n",
              "[5 rows x 9 columns]"
            ]
          },
          "metadata": {
            "tags": []
          },
          "execution_count": 6
        }
      ]
    },
    {
      "cell_type": "code",
      "metadata": {
        "colab": {
          "base_uri": "https://localhost:8080/"
        },
        "id": "jUAKAKbKJJd1",
        "outputId": "07f2775d-d4e1-44fa-be70-38d47618cbe1"
      },
      "source": [
        "print(' column names, number of observations dtypes of the columns')\n",
        "print('\\n')\n",
        "results.info()"
      ],
      "execution_count": null,
      "outputs": [
        {
          "output_type": "stream",
          "text": [
            " column names, number of observations dtypes of the columns\n",
            "\n",
            "\n",
            "<class 'pandas.core.frame.DataFrame'>\n",
            "RangeIndex: 40839 entries, 0 to 40838\n",
            "Data columns (total 9 columns):\n",
            " #   Column      Non-Null Count  Dtype \n",
            "---  ------      --------------  ----- \n",
            " 0   date        40839 non-null  object\n",
            " 1   home_team   40839 non-null  object\n",
            " 2   away_team   40839 non-null  object\n",
            " 3   home_score  40839 non-null  int64 \n",
            " 4   away_score  40839 non-null  int64 \n",
            " 5   tournament  40839 non-null  object\n",
            " 6   city        40839 non-null  object\n",
            " 7   country     40839 non-null  object\n",
            " 8   neutral     40839 non-null  bool  \n",
            "dtypes: bool(1), int64(2), object(6)\n",
            "memory usage: 2.5+ MB\n"
          ],
          "name": "stdout"
        }
      ]
    },
    {
      "cell_type": "markdown",
      "metadata": {
        "id": "arrjf1CZFW3P"
      },
      "source": [
        "### Fifa Rankings DataSet"
      ]
    },
    {
      "cell_type": "code",
      "metadata": {
        "colab": {
          "base_uri": "https://localhost:8080/"
        },
        "id": "5RsXfIoRFcky",
        "outputId": "017525a6-bc7e-4afe-ce3d-9056b6f3dcc0"
      },
      "source": [
        "#we will look for the shape of the dataframe\n",
        "print('fifaranking dataset has ' + str(fifaranking.shape[0]) + ' rows and ' + str(fifaranking.shape[1]) + ' columns' )"
      ],
      "execution_count": null,
      "outputs": [
        {
          "output_type": "stream",
          "text": [
            "fifaranking dataset has 57793 rows and 16 columns\n"
          ],
          "name": "stdout"
        }
      ]
    },
    {
      "cell_type": "code",
      "metadata": {
        "colab": {
          "base_uri": "https://localhost:8080/"
        },
        "id": "_JCdxPE_Fi2_",
        "outputId": "aaa79bf8-4a06-4b84-a816-8b1ab487a4d9"
      },
      "source": [
        "#first 5 rows of the dataset\n",
        "fifaranking.head()"
      ],
      "execution_count": null,
      "outputs": [
        {
          "output_type": "execute_result",
          "data": {
            "text/html": [
              "<div>\n",
              "<style scoped>\n",
              "    .dataframe tbody tr th:only-of-type {\n",
              "        vertical-align: middle;\n",
              "    }\n",
              "\n",
              "    .dataframe tbody tr th {\n",
              "        vertical-align: top;\n",
              "    }\n",
              "\n",
              "    .dataframe thead th {\n",
              "        text-align: right;\n",
              "    }\n",
              "</style>\n",
              "<table border=\"1\" class=\"dataframe\">\n",
              "  <thead>\n",
              "    <tr style=\"text-align: right;\">\n",
              "      <th></th>\n",
              "      <th>rank</th>\n",
              "      <th>country_full</th>\n",
              "      <th>country_abrv</th>\n",
              "      <th>total_points</th>\n",
              "      <th>previous_points</th>\n",
              "      <th>rank_change</th>\n",
              "      <th>cur_year_avg</th>\n",
              "      <th>cur_year_avg_weighted</th>\n",
              "      <th>last_year_avg</th>\n",
              "      <th>last_year_avg_weighted</th>\n",
              "      <th>two_year_ago_avg</th>\n",
              "      <th>two_year_ago_weighted</th>\n",
              "      <th>three_year_ago_avg</th>\n",
              "      <th>three_year_ago_weighted</th>\n",
              "      <th>confederation</th>\n",
              "      <th>rank_date</th>\n",
              "    </tr>\n",
              "  </thead>\n",
              "  <tbody>\n",
              "    <tr>\n",
              "      <th>0</th>\n",
              "      <td>1</td>\n",
              "      <td>Germany</td>\n",
              "      <td>GER</td>\n",
              "      <td>0.0</td>\n",
              "      <td>57</td>\n",
              "      <td>0</td>\n",
              "      <td>0.0</td>\n",
              "      <td>0.0</td>\n",
              "      <td>0.0</td>\n",
              "      <td>0.0</td>\n",
              "      <td>0.0</td>\n",
              "      <td>0.0</td>\n",
              "      <td>0.0</td>\n",
              "      <td>0.0</td>\n",
              "      <td>UEFA</td>\n",
              "      <td>1993-08-08</td>\n",
              "    </tr>\n",
              "    <tr>\n",
              "      <th>1</th>\n",
              "      <td>2</td>\n",
              "      <td>Italy</td>\n",
              "      <td>ITA</td>\n",
              "      <td>0.0</td>\n",
              "      <td>57</td>\n",
              "      <td>0</td>\n",
              "      <td>0.0</td>\n",
              "      <td>0.0</td>\n",
              "      <td>0.0</td>\n",
              "      <td>0.0</td>\n",
              "      <td>0.0</td>\n",
              "      <td>0.0</td>\n",
              "      <td>0.0</td>\n",
              "      <td>0.0</td>\n",
              "      <td>UEFA</td>\n",
              "      <td>1993-08-08</td>\n",
              "    </tr>\n",
              "    <tr>\n",
              "      <th>2</th>\n",
              "      <td>3</td>\n",
              "      <td>Switzerland</td>\n",
              "      <td>SUI</td>\n",
              "      <td>0.0</td>\n",
              "      <td>50</td>\n",
              "      <td>9</td>\n",
              "      <td>0.0</td>\n",
              "      <td>0.0</td>\n",
              "      <td>0.0</td>\n",
              "      <td>0.0</td>\n",
              "      <td>0.0</td>\n",
              "      <td>0.0</td>\n",
              "      <td>0.0</td>\n",
              "      <td>0.0</td>\n",
              "      <td>UEFA</td>\n",
              "      <td>1993-08-08</td>\n",
              "    </tr>\n",
              "    <tr>\n",
              "      <th>3</th>\n",
              "      <td>4</td>\n",
              "      <td>Sweden</td>\n",
              "      <td>SWE</td>\n",
              "      <td>0.0</td>\n",
              "      <td>55</td>\n",
              "      <td>0</td>\n",
              "      <td>0.0</td>\n",
              "      <td>0.0</td>\n",
              "      <td>0.0</td>\n",
              "      <td>0.0</td>\n",
              "      <td>0.0</td>\n",
              "      <td>0.0</td>\n",
              "      <td>0.0</td>\n",
              "      <td>0.0</td>\n",
              "      <td>UEFA</td>\n",
              "      <td>1993-08-08</td>\n",
              "    </tr>\n",
              "    <tr>\n",
              "      <th>4</th>\n",
              "      <td>5</td>\n",
              "      <td>Argentina</td>\n",
              "      <td>ARG</td>\n",
              "      <td>0.0</td>\n",
              "      <td>51</td>\n",
              "      <td>5</td>\n",
              "      <td>0.0</td>\n",
              "      <td>0.0</td>\n",
              "      <td>0.0</td>\n",
              "      <td>0.0</td>\n",
              "      <td>0.0</td>\n",
              "      <td>0.0</td>\n",
              "      <td>0.0</td>\n",
              "      <td>0.0</td>\n",
              "      <td>CONMEBOL</td>\n",
              "      <td>1993-08-08</td>\n",
              "    </tr>\n",
              "  </tbody>\n",
              "</table>\n",
              "</div>"
            ],
            "text/plain": [
              "   rank country_full  ... confederation   rank_date\n",
              "0     1      Germany  ...          UEFA  1993-08-08\n",
              "1     2        Italy  ...          UEFA  1993-08-08\n",
              "2     3  Switzerland  ...          UEFA  1993-08-08\n",
              "3     4       Sweden  ...          UEFA  1993-08-08\n",
              "4     5    Argentina  ...      CONMEBOL  1993-08-08\n",
              "\n",
              "[5 rows x 16 columns]"
            ]
          },
          "metadata": {
            "tags": []
          },
          "execution_count": 9
        }
      ]
    },
    {
      "cell_type": "code",
      "metadata": {
        "colab": {
          "base_uri": "https://localhost:8080/"
        },
        "id": "GS7tHBV5FwTY",
        "outputId": "9868c551-4ee2-4d81-de25-54c6a2e51b19"
      },
      "source": [
        "#fifa ranking last rows\n",
        "fifaranking.tail()"
      ],
      "execution_count": null,
      "outputs": [
        {
          "output_type": "execute_result",
          "data": {
            "text/html": [
              "<div>\n",
              "<style scoped>\n",
              "    .dataframe tbody tr th:only-of-type {\n",
              "        vertical-align: middle;\n",
              "    }\n",
              "\n",
              "    .dataframe tbody tr th {\n",
              "        vertical-align: top;\n",
              "    }\n",
              "\n",
              "    .dataframe thead th {\n",
              "        text-align: right;\n",
              "    }\n",
              "</style>\n",
              "<table border=\"1\" class=\"dataframe\">\n",
              "  <thead>\n",
              "    <tr style=\"text-align: right;\">\n",
              "      <th></th>\n",
              "      <th>rank</th>\n",
              "      <th>country_full</th>\n",
              "      <th>country_abrv</th>\n",
              "      <th>total_points</th>\n",
              "      <th>previous_points</th>\n",
              "      <th>rank_change</th>\n",
              "      <th>cur_year_avg</th>\n",
              "      <th>cur_year_avg_weighted</th>\n",
              "      <th>last_year_avg</th>\n",
              "      <th>last_year_avg_weighted</th>\n",
              "      <th>two_year_ago_avg</th>\n",
              "      <th>two_year_ago_weighted</th>\n",
              "      <th>three_year_ago_avg</th>\n",
              "      <th>three_year_ago_weighted</th>\n",
              "      <th>confederation</th>\n",
              "      <th>rank_date</th>\n",
              "    </tr>\n",
              "  </thead>\n",
              "  <tbody>\n",
              "    <tr>\n",
              "      <th>57788</th>\n",
              "      <td>206</td>\n",
              "      <td>Anguilla</td>\n",
              "      <td>AIA</td>\n",
              "      <td>0.0</td>\n",
              "      <td>0</td>\n",
              "      <td>1</td>\n",
              "      <td>0.0</td>\n",
              "      <td>0.0</td>\n",
              "      <td>0.0</td>\n",
              "      <td>0.0</td>\n",
              "      <td>0.0</td>\n",
              "      <td>0.0</td>\n",
              "      <td>0.0</td>\n",
              "      <td>0.0</td>\n",
              "      <td>CONCACAF</td>\n",
              "      <td>2018-06-07</td>\n",
              "    </tr>\n",
              "    <tr>\n",
              "      <th>57789</th>\n",
              "      <td>206</td>\n",
              "      <td>Bahamas</td>\n",
              "      <td>BAH</td>\n",
              "      <td>0.0</td>\n",
              "      <td>0</td>\n",
              "      <td>1</td>\n",
              "      <td>0.0</td>\n",
              "      <td>0.0</td>\n",
              "      <td>0.0</td>\n",
              "      <td>0.0</td>\n",
              "      <td>0.0</td>\n",
              "      <td>0.0</td>\n",
              "      <td>0.0</td>\n",
              "      <td>0.0</td>\n",
              "      <td>CONCACAF</td>\n",
              "      <td>2018-06-07</td>\n",
              "    </tr>\n",
              "    <tr>\n",
              "      <th>57790</th>\n",
              "      <td>206</td>\n",
              "      <td>Eritrea</td>\n",
              "      <td>ERI</td>\n",
              "      <td>0.0</td>\n",
              "      <td>0</td>\n",
              "      <td>1</td>\n",
              "      <td>0.0</td>\n",
              "      <td>0.0</td>\n",
              "      <td>0.0</td>\n",
              "      <td>0.0</td>\n",
              "      <td>0.0</td>\n",
              "      <td>0.0</td>\n",
              "      <td>0.0</td>\n",
              "      <td>0.0</td>\n",
              "      <td>CAF</td>\n",
              "      <td>2018-06-07</td>\n",
              "    </tr>\n",
              "    <tr>\n",
              "      <th>57791</th>\n",
              "      <td>206</td>\n",
              "      <td>Somalia</td>\n",
              "      <td>SOM</td>\n",
              "      <td>0.0</td>\n",
              "      <td>0</td>\n",
              "      <td>1</td>\n",
              "      <td>0.0</td>\n",
              "      <td>0.0</td>\n",
              "      <td>0.0</td>\n",
              "      <td>0.0</td>\n",
              "      <td>0.0</td>\n",
              "      <td>0.0</td>\n",
              "      <td>0.0</td>\n",
              "      <td>0.0</td>\n",
              "      <td>CAF</td>\n",
              "      <td>2018-06-07</td>\n",
              "    </tr>\n",
              "    <tr>\n",
              "      <th>57792</th>\n",
              "      <td>206</td>\n",
              "      <td>Tonga</td>\n",
              "      <td>TGA</td>\n",
              "      <td>0.0</td>\n",
              "      <td>0</td>\n",
              "      <td>1</td>\n",
              "      <td>0.0</td>\n",
              "      <td>0.0</td>\n",
              "      <td>0.0</td>\n",
              "      <td>0.0</td>\n",
              "      <td>0.0</td>\n",
              "      <td>0.0</td>\n",
              "      <td>0.0</td>\n",
              "      <td>0.0</td>\n",
              "      <td>OFC</td>\n",
              "      <td>2018-06-07</td>\n",
              "    </tr>\n",
              "  </tbody>\n",
              "</table>\n",
              "</div>"
            ],
            "text/plain": [
              "       rank country_full  ... confederation   rank_date\n",
              "57788   206     Anguilla  ...      CONCACAF  2018-06-07\n",
              "57789   206      Bahamas  ...      CONCACAF  2018-06-07\n",
              "57790   206      Eritrea  ...           CAF  2018-06-07\n",
              "57791   206      Somalia  ...           CAF  2018-06-07\n",
              "57792   206        Tonga  ...           OFC  2018-06-07\n",
              "\n",
              "[5 rows x 16 columns]"
            ]
          },
          "metadata": {
            "tags": []
          },
          "execution_count": 10
        }
      ]
    },
    {
      "cell_type": "code",
      "metadata": {
        "colab": {
          "base_uri": "https://localhost:8080/"
        },
        "id": "RyAai-8xF2Ml",
        "outputId": "a499034a-ef33-4587-aef0-ed1ecd883ac7"
      },
      "source": [
        "print(' column names, number of observations dtypes of the columns')\n",
        "print('\\n')\n",
        "fifaranking.info()"
      ],
      "execution_count": null,
      "outputs": [
        {
          "output_type": "stream",
          "text": [
            " column names, number of observations dtypes of the columns\n",
            "\n",
            "\n",
            "<class 'pandas.core.frame.DataFrame'>\n",
            "RangeIndex: 57793 entries, 0 to 57792\n",
            "Data columns (total 16 columns):\n",
            " #   Column                   Non-Null Count  Dtype  \n",
            "---  ------                   --------------  -----  \n",
            " 0   rank                     57793 non-null  int64  \n",
            " 1   country_full             57793 non-null  object \n",
            " 2   country_abrv             57793 non-null  object \n",
            " 3   total_points             57793 non-null  float64\n",
            " 4   previous_points          57793 non-null  int64  \n",
            " 5   rank_change              57793 non-null  int64  \n",
            " 6   cur_year_avg             57793 non-null  float64\n",
            " 7   cur_year_avg_weighted    57793 non-null  float64\n",
            " 8   last_year_avg            57793 non-null  float64\n",
            " 9   last_year_avg_weighted   57793 non-null  float64\n",
            " 10  two_year_ago_avg         57793 non-null  float64\n",
            " 11  two_year_ago_weighted    57793 non-null  float64\n",
            " 12  three_year_ago_avg       57793 non-null  float64\n",
            " 13  three_year_ago_weighted  57793 non-null  float64\n",
            " 14  confederation            57793 non-null  object \n",
            " 15  rank_date                57793 non-null  object \n",
            "dtypes: float64(9), int64(3), object(4)\n",
            "memory usage: 7.1+ MB\n"
          ],
          "name": "stdout"
        }
      ]
    },
    {
      "cell_type": "markdown",
      "metadata": {
        "id": "GXveuN14Mcw_"
      },
      "source": [
        "# DATA CLEANING"
      ]
    },
    {
      "cell_type": "markdown",
      "metadata": {
        "id": "WLIEdafGW4I5"
      },
      "source": [
        "### Results DataFrame"
      ]
    },
    {
      "cell_type": "markdown",
      "metadata": {
        "id": "o2xDGriTXAuz"
      },
      "source": [
        "#### Consistency"
      ]
    },
    {
      "cell_type": "code",
      "metadata": {
        "colab": {
          "base_uri": "https://localhost:8080/"
        },
        "id": "41MzLYHMXPgI",
        "outputId": "bc1f36c3-a76c-4a1b-e6f2-bd4fc17e8fdf"
      },
      "source": [
        "#we will look for rows with duplicated records\n",
        "results.duplicated().sum()"
      ],
      "execution_count": null,
      "outputs": [
        {
          "output_type": "execute_result",
          "data": {
            "text/plain": [
              "0"
            ]
          },
          "metadata": {
            "tags": []
          },
          "execution_count": 12
        }
      ]
    },
    {
      "cell_type": "markdown",
      "metadata": {
        "id": "ZBvwRYWwXD9u"
      },
      "source": [
        "#### Completness"
      ]
    },
    {
      "cell_type": "code",
      "metadata": {
        "colab": {
          "base_uri": "https://localhost:8080/"
        },
        "id": "cUoaZN7wXcnF",
        "outputId": "bccf86a0-4626-435c-ef18-dc1e06c4ee04"
      },
      "source": [
        "#we will look for columns with missing values\n",
        "results.isna().sum()"
      ],
      "execution_count": null,
      "outputs": [
        {
          "output_type": "execute_result",
          "data": {
            "text/plain": [
              "date          0\n",
              "home_team     0\n",
              "away_team     0\n",
              "home_score    0\n",
              "away_score    0\n",
              "tournament    0\n",
              "city          0\n",
              "country       0\n",
              "neutral       0\n",
              "dtype: int64"
            ]
          },
          "metadata": {
            "tags": []
          },
          "execution_count": 13
        }
      ]
    },
    {
      "cell_type": "markdown",
      "metadata": {
        "id": "Oqf_r9jJXF_N"
      },
      "source": [
        "#### Validity"
      ]
    },
    {
      "cell_type": "code",
      "metadata": {
        "id": "fh4Hd2v4XjeA"
      },
      "source": [
        "#we will convert the date from object class into datetime\n",
        "results['date']=pd.to_datetime(results['date'], infer_datetime_format=True)"
      ],
      "execution_count": null,
      "outputs": []
    },
    {
      "cell_type": "code",
      "metadata": {
        "id": "MvSIlfSbRNU7"
      },
      "source": [
        "# we will create a new column with year values\n",
        "results['year']=results['date'].dt.strftime('%Y')\n",
        "results['month']=results['date'].dt.strftime('%m')"
      ],
      "execution_count": null,
      "outputs": []
    },
    {
      "cell_type": "code",
      "metadata": {
        "id": "el1l-HBkaenC",
        "colab": {
          "base_uri": "https://localhost:8080/"
        },
        "outputId": "bd520e3a-50ea-44a1-dfb2-5a6aa2469c52"
      },
      "source": [
        "#we will create two other columns which are goal difference and another to show if the game was a win,draw or a loss\n",
        "#getting the goal difference between the two team. The values obtained will be populated in a new column\n",
        "results['goal_difference']=results['home_score']-results['away_score']\n",
        "\n",
        "#creating another column to show the status of the match.\n",
        "#the status is in reference from the home team\n",
        "matchstatus=[]\n",
        "for i in results['goal_difference']:\n",
        "  if i>0:\n",
        "    matchstatus.append('Win')\n",
        "  elif i==0:\n",
        "    matchstatus.append('Draw')\n",
        "  else:\n",
        "    matchstatus.append('Loss')\n",
        "\n",
        "results['matchstatus']=matchstatus\n",
        "results.head()"
      ],
      "execution_count": null,
      "outputs": [
        {
          "output_type": "execute_result",
          "data": {
            "text/html": [
              "<div>\n",
              "<style scoped>\n",
              "    .dataframe tbody tr th:only-of-type {\n",
              "        vertical-align: middle;\n",
              "    }\n",
              "\n",
              "    .dataframe tbody tr th {\n",
              "        vertical-align: top;\n",
              "    }\n",
              "\n",
              "    .dataframe thead th {\n",
              "        text-align: right;\n",
              "    }\n",
              "</style>\n",
              "<table border=\"1\" class=\"dataframe\">\n",
              "  <thead>\n",
              "    <tr style=\"text-align: right;\">\n",
              "      <th></th>\n",
              "      <th>date</th>\n",
              "      <th>home_team</th>\n",
              "      <th>away_team</th>\n",
              "      <th>home_score</th>\n",
              "      <th>away_score</th>\n",
              "      <th>tournament</th>\n",
              "      <th>city</th>\n",
              "      <th>country</th>\n",
              "      <th>neutral</th>\n",
              "      <th>year</th>\n",
              "      <th>month</th>\n",
              "      <th>goal_difference</th>\n",
              "      <th>matchstatus</th>\n",
              "    </tr>\n",
              "  </thead>\n",
              "  <tbody>\n",
              "    <tr>\n",
              "      <th>0</th>\n",
              "      <td>1872-11-30</td>\n",
              "      <td>Scotland</td>\n",
              "      <td>England</td>\n",
              "      <td>0</td>\n",
              "      <td>0</td>\n",
              "      <td>Friendly</td>\n",
              "      <td>Glasgow</td>\n",
              "      <td>Scotland</td>\n",
              "      <td>False</td>\n",
              "      <td>1872</td>\n",
              "      <td>11</td>\n",
              "      <td>0</td>\n",
              "      <td>Draw</td>\n",
              "    </tr>\n",
              "    <tr>\n",
              "      <th>1</th>\n",
              "      <td>1873-03-08</td>\n",
              "      <td>England</td>\n",
              "      <td>Scotland</td>\n",
              "      <td>4</td>\n",
              "      <td>2</td>\n",
              "      <td>Friendly</td>\n",
              "      <td>London</td>\n",
              "      <td>England</td>\n",
              "      <td>False</td>\n",
              "      <td>1873</td>\n",
              "      <td>03</td>\n",
              "      <td>2</td>\n",
              "      <td>Win</td>\n",
              "    </tr>\n",
              "    <tr>\n",
              "      <th>2</th>\n",
              "      <td>1874-03-07</td>\n",
              "      <td>Scotland</td>\n",
              "      <td>England</td>\n",
              "      <td>2</td>\n",
              "      <td>1</td>\n",
              "      <td>Friendly</td>\n",
              "      <td>Glasgow</td>\n",
              "      <td>Scotland</td>\n",
              "      <td>False</td>\n",
              "      <td>1874</td>\n",
              "      <td>03</td>\n",
              "      <td>1</td>\n",
              "      <td>Win</td>\n",
              "    </tr>\n",
              "    <tr>\n",
              "      <th>3</th>\n",
              "      <td>1875-03-06</td>\n",
              "      <td>England</td>\n",
              "      <td>Scotland</td>\n",
              "      <td>2</td>\n",
              "      <td>2</td>\n",
              "      <td>Friendly</td>\n",
              "      <td>London</td>\n",
              "      <td>England</td>\n",
              "      <td>False</td>\n",
              "      <td>1875</td>\n",
              "      <td>03</td>\n",
              "      <td>0</td>\n",
              "      <td>Draw</td>\n",
              "    </tr>\n",
              "    <tr>\n",
              "      <th>4</th>\n",
              "      <td>1876-03-04</td>\n",
              "      <td>Scotland</td>\n",
              "      <td>England</td>\n",
              "      <td>3</td>\n",
              "      <td>0</td>\n",
              "      <td>Friendly</td>\n",
              "      <td>Glasgow</td>\n",
              "      <td>Scotland</td>\n",
              "      <td>False</td>\n",
              "      <td>1876</td>\n",
              "      <td>03</td>\n",
              "      <td>3</td>\n",
              "      <td>Win</td>\n",
              "    </tr>\n",
              "  </tbody>\n",
              "</table>\n",
              "</div>"
            ],
            "text/plain": [
              "        date home_team away_team  ...  month  goal_difference matchstatus\n",
              "0 1872-11-30  Scotland   England  ...     11                0        Draw\n",
              "1 1873-03-08   England  Scotland  ...     03                2         Win\n",
              "2 1874-03-07  Scotland   England  ...     03                1         Win\n",
              "3 1875-03-06   England  Scotland  ...     03                0        Draw\n",
              "4 1876-03-04  Scotland   England  ...     03                3         Win\n",
              "\n",
              "[5 rows x 13 columns]"
            ]
          },
          "metadata": {
            "tags": []
          },
          "execution_count": 16
        }
      ]
    },
    {
      "cell_type": "code",
      "metadata": {
        "colab": {
          "base_uri": "https://localhost:8080/"
        },
        "id": "t93GzvOiHQIa",
        "outputId": "b1cdc800-44a4-4e8a-9dc8-f47969b2d777"
      },
      "source": [
        "plt.figure(figsize=(7,7))\n",
        "#subplot 1\n",
        "plt.subplot(121)\n",
        "plt.title('boxplot of home goals')\n",
        "plt.boxplot(results['home_score'])\n",
        "plt.xlabel('home goals')\n",
        "plt.ylabel('count')\n",
        "\n",
        "#subplot 2\n",
        "plt.subplot(122)\n",
        "plt.title('boxplot of away goals')\n",
        "plt.boxplot(results['away_score'])\n",
        "plt.xlabel('away goals')\n",
        "plt.ylabel('count')\n",
        "\n",
        "plt.show()"
      ],
      "execution_count": null,
      "outputs": [
        {
          "output_type": "display_data",
          "data": {
            "image/png": "[encoded data removed]",
            "text/plain": [
              "<Figure size 504x504 with 2 Axes>"
            ]
          },
          "metadata": {
            "tags": [],
            "needs_background": "light"
          }
        }
      ]
    },
    {
      "cell_type": "code",
      "metadata": {
        "colab": {
          "base_uri": "https://localhost:8080/"
        },
        "id": "PiIBF3leLu4-",
        "outputId": "ab529d09-8c88-41dd-b45a-176679cdcc21"
      },
      "source": [
        "#accessing the column with outlier values\n",
        "results.loc[(results['home_score']>4)|(results['away_score']>5)]"
      ],
      "execution_count": null,
      "outputs": [
        {
          "output_type": "execute_result",
          "data": {
            "text/html": [
              "<div>\n",
              "<style scoped>\n",
              "    .dataframe tbody tr th:only-of-type {\n",
              "        vertical-align: middle;\n",
              "    }\n",
              "\n",
              "    .dataframe tbody tr th {\n",
              "        vertical-align: top;\n",
              "    }\n",
              "\n",
              "    .dataframe thead th {\n",
              "        text-align: right;\n",
              "    }\n",
              "</style>\n",
              "<table border=\"1\" class=\"dataframe\">\n",
              "  <thead>\n",
              "    <tr style=\"text-align: right;\">\n",
              "      <th></th>\n",
              "      <th>date</th>\n",
              "      <th>home_team</th>\n",
              "      <th>away_team</th>\n",
              "      <th>home_score</th>\n",
              "      <th>away_score</th>\n",
              "      <th>tournament</th>\n",
              "      <th>city</th>\n",
              "      <th>country</th>\n",
              "      <th>neutral</th>\n",
              "      <th>year</th>\n",
              "      <th>month</th>\n",
              "      <th>goal_difference</th>\n",
              "      <th>matchstatus</th>\n",
              "    </tr>\n",
              "  </thead>\n",
              "  <tbody>\n",
              "    <tr>\n",
              "      <th>8</th>\n",
              "      <td>1878-03-02</td>\n",
              "      <td>Scotland</td>\n",
              "      <td>England</td>\n",
              "      <td>7</td>\n",
              "      <td>2</td>\n",
              "      <td>Friendly</td>\n",
              "      <td>Glasgow</td>\n",
              "      <td>Scotland</td>\n",
              "      <td>False</td>\n",
              "      <td>1878</td>\n",
              "      <td>03</td>\n",
              "      <td>5</td>\n",
              "      <td>Win</td>\n",
              "    </tr>\n",
              "    <tr>\n",
              "      <th>9</th>\n",
              "      <td>1878-03-23</td>\n",
              "      <td>Scotland</td>\n",
              "      <td>Wales</td>\n",
              "      <td>9</td>\n",
              "      <td>0</td>\n",
              "      <td>Friendly</td>\n",
              "      <td>Glasgow</td>\n",
              "      <td>Scotland</td>\n",
              "      <td>False</td>\n",
              "      <td>1878</td>\n",
              "      <td>03</td>\n",
              "      <td>9</td>\n",
              "      <td>Win</td>\n",
              "    </tr>\n",
              "    <tr>\n",
              "      <th>11</th>\n",
              "      <td>1879-04-05</td>\n",
              "      <td>England</td>\n",
              "      <td>Scotland</td>\n",
              "      <td>5</td>\n",
              "      <td>4</td>\n",
              "      <td>Friendly</td>\n",
              "      <td>London</td>\n",
              "      <td>England</td>\n",
              "      <td>False</td>\n",
              "      <td>1879</td>\n",
              "      <td>04</td>\n",
              "      <td>1</td>\n",
              "      <td>Win</td>\n",
              "    </tr>\n",
              "    <tr>\n",
              "      <th>13</th>\n",
              "      <td>1880-03-13</td>\n",
              "      <td>Scotland</td>\n",
              "      <td>England</td>\n",
              "      <td>5</td>\n",
              "      <td>4</td>\n",
              "      <td>Friendly</td>\n",
              "      <td>Glasgow</td>\n",
              "      <td>Scotland</td>\n",
              "      <td>False</td>\n",
              "      <td>1880</td>\n",
              "      <td>03</td>\n",
              "      <td>1</td>\n",
              "      <td>Win</td>\n",
              "    </tr>\n",
              "    <tr>\n",
              "      <th>15</th>\n",
              "      <td>1880-03-27</td>\n",
              "      <td>Scotland</td>\n",
              "      <td>Wales</td>\n",
              "      <td>5</td>\n",
              "      <td>1</td>\n",
              "      <td>Friendly</td>\n",
              "      <td>Glasgow</td>\n",
              "      <td>Scotland</td>\n",
              "      <td>False</td>\n",
              "      <td>1880</td>\n",
              "      <td>03</td>\n",
              "      <td>4</td>\n",
              "      <td>Win</td>\n",
              "    </tr>\n",
              "    <tr>\n",
              "      <th>...</th>\n",
              "      <td>...</td>\n",
              "      <td>...</td>\n",
              "      <td>...</td>\n",
              "      <td>...</td>\n",
              "      <td>...</td>\n",
              "      <td>...</td>\n",
              "      <td>...</td>\n",
              "      <td>...</td>\n",
              "      <td>...</td>\n",
              "      <td>...</td>\n",
              "      <td>...</td>\n",
              "      <td>...</td>\n",
              "      <td>...</td>\n",
              "    </tr>\n",
              "    <tr>\n",
              "      <th>40826</th>\n",
              "      <td>2019-07-15</td>\n",
              "      <td>Solomon Islands</td>\n",
              "      <td>American Samoa</td>\n",
              "      <td>13</td>\n",
              "      <td>0</td>\n",
              "      <td>Pacific Games</td>\n",
              "      <td>Apia</td>\n",
              "      <td>Samoa</td>\n",
              "      <td>True</td>\n",
              "      <td>2019</td>\n",
              "      <td>07</td>\n",
              "      <td>13</td>\n",
              "      <td>Win</td>\n",
              "    </tr>\n",
              "    <tr>\n",
              "      <th>40831</th>\n",
              "      <td>2019-07-18</td>\n",
              "      <td>Papua New Guinea</td>\n",
              "      <td>Tonga</td>\n",
              "      <td>8</td>\n",
              "      <td>0</td>\n",
              "      <td>Pacific Games</td>\n",
              "      <td>Apia</td>\n",
              "      <td>Samoa</td>\n",
              "      <td>True</td>\n",
              "      <td>2019</td>\n",
              "      <td>07</td>\n",
              "      <td>8</td>\n",
              "      <td>Win</td>\n",
              "    </tr>\n",
              "    <tr>\n",
              "      <th>40832</th>\n",
              "      <td>2019-07-18</td>\n",
              "      <td>Samoa</td>\n",
              "      <td>Vanuatu</td>\n",
              "      <td>0</td>\n",
              "      <td>11</td>\n",
              "      <td>Pacific Games</td>\n",
              "      <td>Apia</td>\n",
              "      <td>Samoa</td>\n",
              "      <td>False</td>\n",
              "      <td>2019</td>\n",
              "      <td>07</td>\n",
              "      <td>-11</td>\n",
              "      <td>Loss</td>\n",
              "    </tr>\n",
              "    <tr>\n",
              "      <th>40833</th>\n",
              "      <td>2019-07-18</td>\n",
              "      <td>New Caledonia</td>\n",
              "      <td>Tuvalu</td>\n",
              "      <td>11</td>\n",
              "      <td>0</td>\n",
              "      <td>Pacific Games</td>\n",
              "      <td>Apia</td>\n",
              "      <td>Samoa</td>\n",
              "      <td>True</td>\n",
              "      <td>2019</td>\n",
              "      <td>07</td>\n",
              "      <td>11</td>\n",
              "      <td>Win</td>\n",
              "    </tr>\n",
              "    <tr>\n",
              "      <th>40834</th>\n",
              "      <td>2019-07-18</td>\n",
              "      <td>American Samoa</td>\n",
              "      <td>Tahiti</td>\n",
              "      <td>8</td>\n",
              "      <td>1</td>\n",
              "      <td>Pacific Games</td>\n",
              "      <td>Apia</td>\n",
              "      <td>Samoa</td>\n",
              "      <td>True</td>\n",
              "      <td>2019</td>\n",
              "      <td>07</td>\n",
              "      <td>7</td>\n",
              "      <td>Win</td>\n",
              "    </tr>\n",
              "  </tbody>\n",
              "</table>\n",
              "<p>3213 rows × 13 columns</p>\n",
              "</div>"
            ],
            "text/plain": [
              "            date         home_team  ... goal_difference  matchstatus\n",
              "8     1878-03-02          Scotland  ...               5          Win\n",
              "9     1878-03-23          Scotland  ...               9          Win\n",
              "11    1879-04-05           England  ...               1          Win\n",
              "13    1880-03-13          Scotland  ...               1          Win\n",
              "15    1880-03-27          Scotland  ...               4          Win\n",
              "...          ...               ...  ...             ...          ...\n",
              "40826 2019-07-15   Solomon Islands  ...              13          Win\n",
              "40831 2019-07-18  Papua New Guinea  ...               8          Win\n",
              "40832 2019-07-18             Samoa  ...             -11         Loss\n",
              "40833 2019-07-18     New Caledonia  ...              11          Win\n",
              "40834 2019-07-18    American Samoa  ...               7          Win\n",
              "\n",
              "[3213 rows x 13 columns]"
            ]
          },
          "metadata": {
            "tags": []
          },
          "execution_count": 18
        }
      ]
    },
    {
      "cell_type": "code",
      "metadata": {
        "id": "K3lMLvohE9z6"
      },
      "source": [
        "#we will drop this outlier values\n",
        "results.drop(results.loc[(results['home_score']>4)|(results['away_score']>5)].index,inplace=True)"
      ],
      "execution_count": null,
      "outputs": []
    },
    {
      "cell_type": "code",
      "metadata": {
        "colab": {
          "base_uri": "https://localhost:8080/"
        },
        "id": "_NPZIvuzM9hR",
        "outputId": "9394f5b4-d8d0-42bc-916a-bedd376a1272"
      },
      "source": [
        "#we will plot thw boxplot again to confirm if the outliers have been deleted\n",
        "\n",
        "plt.figure(figsize=(7,7))\n",
        "#subplot 1\n",
        "plt.subplot(131)\n",
        "plt.title('boxplot of home goals')\n",
        "plt.boxplot(results['home_score'])\n",
        "plt.xlabel('home goals')\n",
        "plt.ylabel('count')\n",
        "\n",
        "#subplot 2\n",
        "plt.subplot(132)\n",
        "plt.title('boxplot of away goals')\n",
        "plt.boxplot(results['away_score'])\n",
        "plt.xlabel('away goals')\n",
        "plt.ylabel('count')\n",
        "\n",
        "#subplot3\n",
        "plt.subplot(133)\n",
        "plt.title('boxplot of away goals')\n",
        "plt.boxplot(results['goal_difference'])\n",
        "plt.xlabel('away goals')\n",
        "plt.ylabel('count')\n",
        "\n",
        "plt.show()"
      ],
      "execution_count": null,
      "outputs": [
        {
          "output_type": "display_data",
          "data": {
            "image/png": "[encoded data removed]",
            "text/plain": [
              "<Figure size 504x504 with 3 Axes>"
            ]
          },
          "metadata": {
            "tags": [],
            "needs_background": "light"
          }
        }
      ]
    },
    {
      "cell_type": "code",
      "metadata": {
        "colab": {
          "base_uri": "https://localhost:8080/"
        },
        "id": "RVB58i23Di7H",
        "outputId": "479bcb48-23ae-494d-a394-89b673a9dca1"
      },
      "source": [
        "#to look at the dtypes of the two new variables that we created\n",
        "results.dtypes"
      ],
      "execution_count": null,
      "outputs": [
        {
          "output_type": "execute_result",
          "data": {
            "text/plain": [
              "date               datetime64[ns]\n",
              "home_team                  object\n",
              "away_team                  object\n",
              "home_score                  int64\n",
              "away_score                  int64\n",
              "tournament                 object\n",
              "city                       object\n",
              "country                    object\n",
              "neutral                      bool\n",
              "year                       object\n",
              "month                      object\n",
              "goal_difference             int64\n",
              "matchstatus                object\n",
              "dtype: object"
            ]
          },
          "metadata": {
            "tags": []
          },
          "execution_count": 21
        }
      ]
    },
    {
      "cell_type": "markdown",
      "metadata": {
        "id": "RoUv_DmUXIr0"
      },
      "source": [
        "#### Uniformity"
      ]
    },
    {
      "cell_type": "code",
      "metadata": {
        "colab": {
          "base_uri": "https://localhost:8080/"
        },
        "id": "-yKRqR1NXLfg",
        "outputId": "398c92c5-3045-4173-fb92-cd0d227f535a"
      },
      "source": [
        "results.columns=results.columns.str.strip().str.lower().str.replace(' ','_').str.replace('(','').str.replace(')','')\n",
        "\n",
        "results.columns"
      ],
      "execution_count": null,
      "outputs": [
        {
          "output_type": "execute_result",
          "data": {
            "text/plain": [
              "Index(['date', 'home_team', 'away_team', 'home_score', 'away_score',\n",
              "       'tournament', 'city', 'country', 'neutral', 'year', 'month',\n",
              "       'goal_difference', 'matchstatus'],\n",
              "      dtype='object')"
            ]
          },
          "metadata": {
            "tags": []
          },
          "execution_count": 22
        }
      ]
    },
    {
      "cell_type": "markdown",
      "metadata": {
        "id": "wFrTQ2EZGCzw"
      },
      "source": [
        "### FiFa Ranking Data Cleaning"
      ]
    },
    {
      "cell_type": "markdown",
      "metadata": {
        "id": "6ufpqk8HGHU7"
      },
      "source": [
        "##### Consistency"
      ]
    },
    {
      "cell_type": "code",
      "metadata": {
        "colab": {
          "base_uri": "https://localhost:8080/"
        },
        "id": "DIzbS_GAGWc7",
        "outputId": "f40fadb1-83f6-4f6a-aa01-697febe1a6b0"
      },
      "source": [
        "#we will look for the number of rows with duplicate records\n",
        "print('number of rows with duplicated values',fifaranking.duplicated().sum())\n",
        "\n",
        "#we then drop the rows with duplicated records\n",
        "fifaranking.drop_duplicates(inplace=True)\n",
        "print('\\n to confirm if the duplicated rows have been dropped')\n",
        "print('number of rows with duplicated values',fifaranking.duplicated().sum())\n",
        "\n",
        "print('shape of dataframe after deleting duplicated rows', fifaranking.shape)"
      ],
      "execution_count": null,
      "outputs": [
        {
          "output_type": "stream",
          "text": [
            "number of rows with duplicated values 37\n",
            "\n",
            " to confirm if the duplicated rows have been dropped\n",
            "number of rows with duplicated values 0\n",
            "shape of dataframe after deleting duplicated rows (57756, 16)\n"
          ],
          "name": "stdout"
        }
      ]
    },
    {
      "cell_type": "markdown",
      "metadata": {
        "id": "Vhsu8hY_GJyw"
      },
      "source": [
        "##### Completness"
      ]
    },
    {
      "cell_type": "code",
      "metadata": {
        "colab": {
          "base_uri": "https://localhost:8080/"
        },
        "id": "MGQxqKhOGjXH",
        "outputId": "890cc0c6-7cd5-43e9-8870-5e5f85d4fd74"
      },
      "source": [
        "#look for columns with missing values\n",
        "fifaranking.isna().sum()"
      ],
      "execution_count": null,
      "outputs": [
        {
          "output_type": "execute_result",
          "data": {
            "text/plain": [
              "rank                       0\n",
              "country_full               0\n",
              "country_abrv               0\n",
              "total_points               0\n",
              "previous_points            0\n",
              "rank_change                0\n",
              "cur_year_avg               0\n",
              "cur_year_avg_weighted      0\n",
              "last_year_avg              0\n",
              "last_year_avg_weighted     0\n",
              "two_year_ago_avg           0\n",
              "two_year_ago_weighted      0\n",
              "three_year_ago_avg         0\n",
              "three_year_ago_weighted    0\n",
              "confederation              0\n",
              "rank_date                  0\n",
              "dtype: int64"
            ]
          },
          "metadata": {
            "tags": []
          },
          "execution_count": 24
        }
      ]
    },
    {
      "cell_type": "markdown",
      "metadata": {
        "id": "AySv3otCGPkZ"
      },
      "source": [
        "##### Uniformity"
      ]
    },
    {
      "cell_type": "code",
      "metadata": {
        "colab": {
          "base_uri": "https://localhost:8080/"
        },
        "id": "CoUZl_DWG7WP",
        "outputId": "44de5232-2558-4ef6-dce6-c166a7faadc9"
      },
      "source": [
        "#rename the rank_date into date\n",
        "fifaranking.rename(columns={'rank_date':'date'},inplace=True)\n",
        "# we will rename the columns into a uniform naming convention\n",
        "# we will use the pascal case\n",
        "fifaranking.columns=fifaranking.columns.str.strip().str.lower().str.replace(' ','_').str.replace('(','').str.replace(')','')\n",
        "\n",
        "\n",
        "#confirm if the code above has been implemented\n",
        "fifaranking.columns"
      ],
      "execution_count": null,
      "outputs": [
        {
          "output_type": "execute_result",
          "data": {
            "text/plain": [
              "Index(['rank', 'country_full', 'country_abrv', 'total_points',\n",
              "       'previous_points', 'rank_change', 'cur_year_avg',\n",
              "       'cur_year_avg_weighted', 'last_year_avg', 'last_year_avg_weighted',\n",
              "       'two_year_ago_avg', 'two_year_ago_weighted', 'three_year_ago_avg',\n",
              "       'three_year_ago_weighted', 'confederation', 'date'],\n",
              "      dtype='object')"
            ]
          },
          "metadata": {
            "tags": []
          },
          "execution_count": 25
        }
      ]
    },
    {
      "cell_type": "markdown",
      "metadata": {
        "id": "YfZWsTA5GTse"
      },
      "source": [
        "##### Validity"
      ]
    },
    {
      "cell_type": "code",
      "metadata": {
        "id": "pC0GeB5lHAO4"
      },
      "source": [
        "#converting the dtype of the column date from object to datetime\n",
        "fifaranking['date']=pd.to_datetime(fifaranking['date'],infer_datetime_format=True)"
      ],
      "execution_count": null,
      "outputs": []
    },
    {
      "cell_type": "code",
      "metadata": {
        "id": "r5cL6lZdHAwL"
      },
      "source": [
        "# we will create a new column with year values\n",
        "fifaranking['year']=fifaranking['date'].dt.strftime('%Y')\n",
        "fifaranking['month']=fifaranking['date'].dt.strftime('%m')"
      ],
      "execution_count": null,
      "outputs": []
    },
    {
      "cell_type": "code",
      "metadata": {
        "colab": {
          "base_uri": "https://localhost:8080/"
        },
        "id": "4NGQAeTq5-Nd",
        "outputId": "5554ee72-38af-4e28-cb48-b234f07fbfcb"
      },
      "source": [
        "#we will drop some of the columns that might be unecessary\n",
        "fifaranking.drop(['country_abrv','previous_points','rank_change','cur_year_avg_weighted','last_year_avg','last_year_avg_weighted','two_year_ago_avg','two_year_ago_weighted','three_year_ago_avg','three_year_ago_weighted'],axis=1,inplace=True)\n",
        "fifaranking.columns"
      ],
      "execution_count": null,
      "outputs": [
        {
          "output_type": "execute_result",
          "data": {
            "text/plain": [
              "Index(['rank', 'country_full', 'total_points', 'cur_year_avg', 'confederation',\n",
              "       'date', 'year', 'month'],\n",
              "      dtype='object')"
            ]
          },
          "metadata": {
            "tags": []
          },
          "execution_count": 28
        }
      ]
    },
    {
      "cell_type": "markdown",
      "metadata": {
        "id": "P_1WrPw_HY8b"
      },
      "source": [
        "# MERGING THE TWO DATASETS"
      ]
    },
    {
      "cell_type": "code",
      "metadata": {
        "id": "oeqb54CIUBFe"
      },
      "source": [
        "#we will first rank the records in both tables using the datecolumns\n",
        "#sort the records in the fifa rankings dataframe using the date column\n",
        "fifaranking1=fifaranking.copy()\n",
        "fifaranking.sort_values('date',inplace=True)\n",
        "fifaranking1.sort_values('date',inplace=True)\n",
        "fifaranking1=fifaranking\n",
        "#sort the records in the results dataframe using the date column\n",
        "results.sort_values('date',inplace=True)"
      ],
      "execution_count": null,
      "outputs": []
    },
    {
      "cell_type": "code",
      "metadata": {
        "colab": {
          "base_uri": "https://localhost:8080/"
        },
        "id": "fA3UsFBxQhyD",
        "outputId": "990741a2-ba24-463b-8288-e05d3949101f"
      },
      "source": [
        "print('*** year column in results dataset')\n",
        "print(results['date'].describe())\n",
        "\n",
        "print('*** year column in fifa ranking dataset')\n",
        "print(fifaranking['date'].describe())\n",
        "\n",
        "\n",
        "#we can see that the records in both tables started at different times\n",
        "#in the results dataset, the records began in 1872\n",
        "#in the fifaranking dataset, the records were made from 1993"
      ],
      "execution_count": null,
      "outputs": [
        {
          "output_type": "stream",
          "text": [
            "*** year column in results dataset\n",
            "count                   37626\n",
            "unique                  14319\n",
            "top       2012-02-29 00:00:00\n",
            "freq                       62\n",
            "first     1872-11-30 00:00:00\n",
            "last      2019-07-20 00:00:00\n",
            "Name: date, dtype: object\n",
            "*** year column in fifa ranking dataset\n",
            "count                   57756\n",
            "unique                    286\n",
            "top       2017-04-06 00:00:00\n",
            "freq                      211\n",
            "first     1993-08-08 00:00:00\n",
            "last      2018-06-07 00:00:00\n",
            "Name: date, dtype: object\n"
          ],
          "name": "stdout"
        },
        {
          "output_type": "stream",
          "text": [
            "/usr/local/lib/python3.7/dist-packages/ipykernel_launcher.py:2: FutureWarning: Treating datetime data as categorical rather than numeric in `.describe` is deprecated and will be removed in a future version of pandas. Specify `datetime_is_numeric=True` to silence this warning and adopt the future behavior now.\n",
            "  \n",
            "/usr/local/lib/python3.7/dist-packages/ipykernel_launcher.py:5: FutureWarning: Treating datetime data as categorical rather than numeric in `.describe` is deprecated and will be removed in a future version of pandas. Specify `datetime_is_numeric=True` to silence this warning and adopt the future behavior now.\n",
            "  \"\"\"\n"
          ],
          "name": "stderr"
        }
      ]
    },
    {
      "cell_type": "code",
      "metadata": {
        "colab": {
          "base_uri": "https://localhost:8080/"
        },
        "id": "50E7B76hT2M3",
        "outputId": "95eafa01-f6f3-47db-a215-ccdab91dea9c"
      },
      "source": [
        "#we will drop the records in the results dataset that were recorded before the year 1993\n",
        "results.drop(results.loc[results['year']<'1993'].index,inplace=True)\n",
        "\n",
        "#to confirm if this values have been dropped\n",
        "results.date.describe()"
      ],
      "execution_count": null,
      "outputs": [
        {
          "output_type": "stream",
          "text": [
            "/usr/local/lib/python3.7/dist-packages/ipykernel_launcher.py:5: FutureWarning: Treating datetime data as categorical rather than numeric in `.describe` is deprecated and will be removed in a future version of pandas. Specify `datetime_is_numeric=True` to silence this warning and adopt the future behavior now.\n",
            "  \"\"\"\n"
          ],
          "name": "stderr"
        },
        {
          "output_type": "execute_result",
          "data": {
            "text/plain": [
              "count                   21926\n",
              "unique                   5481\n",
              "top       2012-02-29 00:00:00\n",
              "freq                       62\n",
              "first     1993-01-01 00:00:00\n",
              "last      2019-07-20 00:00:00\n",
              "Name: date, dtype: object"
            ]
          },
          "metadata": {
            "tags": []
          },
          "execution_count": 31
        }
      ]
    },
    {
      "cell_type": "code",
      "metadata": {
        "colab": {
          "base_uri": "https://localhost:8080/"
        },
        "id": "xilDS85efJDt",
        "outputId": "8f579967-d25e-4e5f-c5b8-114aaf16bfd8"
      },
      "source": [
        "#to confirm if the countries in results dataframe are also in fifarankings dataframe\n",
        "fifaranking['country_full'].isin(results['home_team']).value_counts()"
      ],
      "execution_count": null,
      "outputs": [
        {
          "output_type": "execute_result",
          "data": {
            "text/plain": [
              "True     53015\n",
              "False     4741\n",
              "Name: country_full, dtype: int64"
            ]
          },
          "metadata": {
            "tags": []
          },
          "execution_count": 32
        }
      ]
    },
    {
      "cell_type": "code",
      "metadata": {
        "id": "io19h6jjglC-"
      },
      "source": [
        "#rename the country full name in the fifa ranking dataset \n",
        "fifaranking.rename(columns={'country_full':'home_team'},inplace=True)"
      ],
      "execution_count": null,
      "outputs": []
    },
    {
      "cell_type": "code",
      "metadata": {
        "colab": {
          "base_uri": "https://localhost:8080/",
          "height": 204
        },
        "id": "M7Y1L6rabtWR",
        "outputId": "d0c49748-1936-4e7b-e91d-d6ac0c03db08"
      },
      "source": [
        "fifaranking1.head()"
      ],
      "execution_count": null,
      "outputs": [
        {
          "output_type": "execute_result",
          "data": {
            "text/html": [
              "<div>\n",
              "<style scoped>\n",
              "    .dataframe tbody tr th:only-of-type {\n",
              "        vertical-align: middle;\n",
              "    }\n",
              "\n",
              "    .dataframe tbody tr th {\n",
              "        vertical-align: top;\n",
              "    }\n",
              "\n",
              "    .dataframe thead th {\n",
              "        text-align: right;\n",
              "    }\n",
              "</style>\n",
              "<table border=\"1\" class=\"dataframe\">\n",
              "  <thead>\n",
              "    <tr style=\"text-align: right;\">\n",
              "      <th></th>\n",
              "      <th>rank</th>\n",
              "      <th>home_team</th>\n",
              "      <th>total_points</th>\n",
              "      <th>cur_year_avg</th>\n",
              "      <th>confederation</th>\n",
              "      <th>date</th>\n",
              "      <th>year</th>\n",
              "      <th>month</th>\n",
              "    </tr>\n",
              "  </thead>\n",
              "  <tbody>\n",
              "    <tr>\n",
              "      <th>0</th>\n",
              "      <td>1</td>\n",
              "      <td>Germany</td>\n",
              "      <td>0.0</td>\n",
              "      <td>0.0</td>\n",
              "      <td>UEFA</td>\n",
              "      <td>1993-08-08</td>\n",
              "      <td>1993</td>\n",
              "      <td>08</td>\n",
              "    </tr>\n",
              "    <tr>\n",
              "      <th>107</th>\n",
              "      <td>108</td>\n",
              "      <td>Lebanon</td>\n",
              "      <td>0.0</td>\n",
              "      <td>0.0</td>\n",
              "      <td>AFC</td>\n",
              "      <td>1993-08-08</td>\n",
              "      <td>1993</td>\n",
              "      <td>08</td>\n",
              "    </tr>\n",
              "    <tr>\n",
              "      <th>108</th>\n",
              "      <td>109</td>\n",
              "      <td>South Africa</td>\n",
              "      <td>0.0</td>\n",
              "      <td>0.0</td>\n",
              "      <td>CAF</td>\n",
              "      <td>1993-08-08</td>\n",
              "      <td>1993</td>\n",
              "      <td>08</td>\n",
              "    </tr>\n",
              "    <tr>\n",
              "      <th>109</th>\n",
              "      <td>110</td>\n",
              "      <td>Luxembourg</td>\n",
              "      <td>0.0</td>\n",
              "      <td>0.0</td>\n",
              "      <td>UEFA</td>\n",
              "      <td>1993-08-08</td>\n",
              "      <td>1993</td>\n",
              "      <td>08</td>\n",
              "    </tr>\n",
              "    <tr>\n",
              "      <th>110</th>\n",
              "      <td>111</td>\n",
              "      <td>Faroe Islands</td>\n",
              "      <td>0.0</td>\n",
              "      <td>0.0</td>\n",
              "      <td>UEFA</td>\n",
              "      <td>1993-08-08</td>\n",
              "      <td>1993</td>\n",
              "      <td>08</td>\n",
              "    </tr>\n",
              "  </tbody>\n",
              "</table>\n",
              "</div>"
            ],
            "text/plain": [
              "     rank      home_team  total_points  ...       date  year month\n",
              "0       1        Germany           0.0  ... 1993-08-08  1993    08\n",
              "107   108        Lebanon           0.0  ... 1993-08-08  1993    08\n",
              "108   109   South Africa           0.0  ... 1993-08-08  1993    08\n",
              "109   110     Luxembourg           0.0  ... 1993-08-08  1993    08\n",
              "110   111  Faroe Islands           0.0  ... 1993-08-08  1993    08\n",
              "\n",
              "[5 rows x 8 columns]"
            ]
          },
          "metadata": {
            "tags": []
          },
          "execution_count": 34
        }
      ]
    },
    {
      "cell_type": "code",
      "metadata": {
        "id": "hDnfC5RXd_CC"
      },
      "source": [
        "merged=pd.merge(fifaranking,results,how='right',on=['home_team','year','month'])\n",
        "merged.rename(columns={'rank':'home_rank'},inplace=True)"
      ],
      "execution_count": null,
      "outputs": []
    },
    {
      "cell_type": "code",
      "metadata": {
        "colab": {
          "base_uri": "https://localhost:8080/"
        },
        "id": "XUNHWRJYansE",
        "outputId": "0ad83fc2-8ff5-4bf6-e5f8-c7391f9b5c7b"
      },
      "source": [
        "print('looking for number of null values in the columns in the first dataset\\n', merged.isna().sum())\n",
        "#we will drop the null values\n",
        "merged.dropna(inplace=True)\n",
        "\n",
        "print('shape of merged', merged.shape)"
      ],
      "execution_count": null,
      "outputs": [
        {
          "output_type": "stream",
          "text": [
            "looking for number of null values in the columns in the first dataset\n",
            " home_rank          4528\n",
            "home_team             0\n",
            "total_points       4528\n",
            "cur_year_avg       4528\n",
            "confederation      4528\n",
            "date_x             4528\n",
            "year                  0\n",
            "month                 0\n",
            "date_y                0\n",
            "away_team             0\n",
            "home_score            0\n",
            "away_score            0\n",
            "tournament            0\n",
            "city                  0\n",
            "country               0\n",
            "neutral               0\n",
            "goal_difference       0\n",
            "matchstatus           0\n",
            "dtype: int64\n",
            "shape of merged (17450, 18)\n"
          ],
          "name": "stdout"
        }
      ]
    },
    {
      "cell_type": "code",
      "metadata": {
        "id": "PtUxxSPXrJ6E"
      },
      "source": [
        "fifaranking.rename(columns={'home_team':'away_team'},inplace=True)\n",
        "merged1=pd.merge(fifaranking,results,how='right',on=['away_team','year','month'])\n",
        "merged1.rename(columns={'rank':'away_rank'},inplace=True)"
      ],
      "execution_count": null,
      "outputs": []
    },
    {
      "cell_type": "code",
      "metadata": {
        "colab": {
          "base_uri": "https://localhost:8080/"
        },
        "id": "VoL1J4sDWa3U",
        "outputId": "01d630bc-8918-41f3-d30a-1e49faa0e665"
      },
      "source": [
        "print('looking for number of null values in the columns in the first dataset\\n', merged1.isna().sum())\n",
        "#we will drop the null values\n",
        "merged1.dropna(inplace=True)\n",
        "\n",
        "print('shape of merged', merged1.shape)"
      ],
      "execution_count": null,
      "outputs": [
        {
          "output_type": "stream",
          "text": [
            "looking for number of null values in the columns in the first dataset\n",
            " away_rank          4590\n",
            "away_team             0\n",
            "total_points       4590\n",
            "cur_year_avg       4590\n",
            "confederation      4590\n",
            "date_x             4590\n",
            "year                  0\n",
            "month                 0\n",
            "date_y                0\n",
            "home_team             0\n",
            "home_score            0\n",
            "away_score            0\n",
            "tournament            0\n",
            "city                  0\n",
            "country               0\n",
            "neutral               0\n",
            "goal_difference       0\n",
            "matchstatus           0\n",
            "dtype: int64\n",
            "shape of merged (17388, 18)\n"
          ],
          "name": "stdout"
        }
      ]
    },
    {
      "cell_type": "code",
      "metadata": {
        "id": "7EGyV7DNzxk5"
      },
      "source": [
        "merged3=pd.merge(merged,merged1,how='inner',left_on=['away_team','year','month'],right_on=['away_team','year','month'])"
      ],
      "execution_count": null,
      "outputs": []
    },
    {
      "cell_type": "code",
      "metadata": {
        "colab": {
          "base_uri": "https://localhost:8080/"
        },
        "id": "sh_ZxPSL0eGT",
        "outputId": "33fab955-a768-450a-c07f-5f8f91e09468"
      },
      "source": [
        "#getting the shape of the resulting final dataset\n",
        "merged3.shape"
      ],
      "execution_count": null,
      "outputs": [
        {
          "output_type": "execute_result",
          "data": {
            "text/plain": [
              "(26173, 33)"
            ]
          },
          "metadata": {
            "tags": []
          },
          "execution_count": 40
        }
      ]
    },
    {
      "cell_type": "code",
      "metadata": {
        "colab": {
          "base_uri": "https://localhost:8080/"
        },
        "id": "pxwktZMQ0l3F",
        "outputId": "208c48c1-98b9-4322-f82a-4dd6be9f478b"
      },
      "source": [
        "#look for number of null values in the columns\n",
        "merged3.isna().sum()\n",
        "merged3=merged3.dropna()\n",
        "merged3.isna().sum()"
      ],
      "execution_count": null,
      "outputs": [
        {
          "output_type": "execute_result",
          "data": {
            "text/plain": [
              "home_rank            0\n",
              "home_team_x          0\n",
              "total_points_x       0\n",
              "cur_year_avg_x       0\n",
              "confederation_x      0\n",
              "date_x_x             0\n",
              "year                 0\n",
              "month                0\n",
              "date_y_x             0\n",
              "away_team            0\n",
              "home_score_x         0\n",
              "away_score_x         0\n",
              "tournament_x         0\n",
              "city_x               0\n",
              "country_x            0\n",
              "neutral_x            0\n",
              "goal_difference_x    0\n",
              "matchstatus_x        0\n",
              "away_rank            0\n",
              "total_points_y       0\n",
              "cur_year_avg_y       0\n",
              "confederation_y      0\n",
              "date_x_y             0\n",
              "date_y_y             0\n",
              "home_team_y          0\n",
              "home_score_y         0\n",
              "away_score_y         0\n",
              "tournament_y         0\n",
              "city_y               0\n",
              "country_y            0\n",
              "neutral_y            0\n",
              "goal_difference_y    0\n",
              "matchstatus_y        0\n",
              "dtype: int64"
            ]
          },
          "metadata": {
            "tags": []
          },
          "execution_count": 41
        }
      ]
    },
    {
      "cell_type": "code",
      "metadata": {
        "colab": {
          "base_uri": "https://localhost:8080/"
        },
        "id": "fXckKP6A-1g9",
        "outputId": "b3e9ef74-18f7-4b00-cc0c-c16d60d1b6b9"
      },
      "source": [
        "#looking for columns with duplicated values\n",
        "print('number of duplicated records',merged3.duplicated().sum())"
      ],
      "execution_count": null,
      "outputs": [
        {
          "output_type": "stream",
          "text": [
            "number of duplicated records 0\n"
          ],
          "name": "stdout"
        }
      ]
    },
    {
      "cell_type": "code",
      "metadata": {
        "colab": {
          "base_uri": "https://localhost:8080/",
          "height": 199
        },
        "id": "pEvC77pCd_ag",
        "outputId": "e685d45e-f2d7-4938-fb15-c9c0fc815203"
      },
      "source": [
        "merged3.head(2)"
      ],
      "execution_count": null,
      "outputs": [
        {
          "output_type": "execute_result",
          "data": {
            "text/html": [
              "<div>\n",
              "<style scoped>\n",
              "    .dataframe tbody tr th:only-of-type {\n",
              "        vertical-align: middle;\n",
              "    }\n",
              "\n",
              "    .dataframe tbody tr th {\n",
              "        vertical-align: top;\n",
              "    }\n",
              "\n",
              "    .dataframe thead th {\n",
              "        text-align: right;\n",
              "    }\n",
              "</style>\n",
              "<table border=\"1\" class=\"dataframe\">\n",
              "  <thead>\n",
              "    <tr style=\"text-align: right;\">\n",
              "      <th></th>\n",
              "      <th>home_rank</th>\n",
              "      <th>home_team_x</th>\n",
              "      <th>total_points_x</th>\n",
              "      <th>cur_year_avg_x</th>\n",
              "      <th>confederation_x</th>\n",
              "      <th>date_x_x</th>\n",
              "      <th>year</th>\n",
              "      <th>month</th>\n",
              "      <th>date_y_x</th>\n",
              "      <th>away_team</th>\n",
              "      <th>home_score_x</th>\n",
              "      <th>away_score_x</th>\n",
              "      <th>tournament_x</th>\n",
              "      <th>city_x</th>\n",
              "      <th>country_x</th>\n",
              "      <th>neutral_x</th>\n",
              "      <th>goal_difference_x</th>\n",
              "      <th>matchstatus_x</th>\n",
              "      <th>away_rank</th>\n",
              "      <th>total_points_y</th>\n",
              "      <th>cur_year_avg_y</th>\n",
              "      <th>confederation_y</th>\n",
              "      <th>date_x_y</th>\n",
              "      <th>date_y_y</th>\n",
              "      <th>home_team_y</th>\n",
              "      <th>home_score_y</th>\n",
              "      <th>away_score_y</th>\n",
              "      <th>tournament_y</th>\n",
              "      <th>city_y</th>\n",
              "      <th>country_y</th>\n",
              "      <th>neutral_y</th>\n",
              "      <th>goal_difference_y</th>\n",
              "      <th>matchstatus_y</th>\n",
              "    </tr>\n",
              "  </thead>\n",
              "  <tbody>\n",
              "    <tr>\n",
              "      <th>0</th>\n",
              "      <td>19.0</td>\n",
              "      <td>Colombia</td>\n",
              "      <td>0.0</td>\n",
              "      <td>0.0</td>\n",
              "      <td>CONMEBOL</td>\n",
              "      <td>1993-08-08</td>\n",
              "      <td>1993</td>\n",
              "      <td>08</td>\n",
              "      <td>1993-08-01</td>\n",
              "      <td>Paraguay</td>\n",
              "      <td>0</td>\n",
              "      <td>0</td>\n",
              "      <td>FIFA World Cup qualification</td>\n",
              "      <td>Barranquilla</td>\n",
              "      <td>Colombia</td>\n",
              "      <td>False</td>\n",
              "      <td>0</td>\n",
              "      <td>Draw</td>\n",
              "      <td>67.0</td>\n",
              "      <td>0.0</td>\n",
              "      <td>0.0</td>\n",
              "      <td>CONMEBOL</td>\n",
              "      <td>1993-08-08</td>\n",
              "      <td>1993-08-01</td>\n",
              "      <td>Colombia</td>\n",
              "      <td>0</td>\n",
              "      <td>0</td>\n",
              "      <td>FIFA World Cup qualification</td>\n",
              "      <td>Barranquilla</td>\n",
              "      <td>Colombia</td>\n",
              "      <td>False</td>\n",
              "      <td>0</td>\n",
              "      <td>Draw</td>\n",
              "    </tr>\n",
              "    <tr>\n",
              "      <th>1</th>\n",
              "      <td>19.0</td>\n",
              "      <td>Colombia</td>\n",
              "      <td>0.0</td>\n",
              "      <td>0.0</td>\n",
              "      <td>CONMEBOL</td>\n",
              "      <td>1993-08-08</td>\n",
              "      <td>1993</td>\n",
              "      <td>08</td>\n",
              "      <td>1993-08-01</td>\n",
              "      <td>Paraguay</td>\n",
              "      <td>0</td>\n",
              "      <td>0</td>\n",
              "      <td>FIFA World Cup qualification</td>\n",
              "      <td>Barranquilla</td>\n",
              "      <td>Colombia</td>\n",
              "      <td>False</td>\n",
              "      <td>0</td>\n",
              "      <td>Draw</td>\n",
              "      <td>67.0</td>\n",
              "      <td>0.0</td>\n",
              "      <td>0.0</td>\n",
              "      <td>CONMEBOL</td>\n",
              "      <td>1993-08-08</td>\n",
              "      <td>1993-08-29</td>\n",
              "      <td>Argentina</td>\n",
              "      <td>0</td>\n",
              "      <td>0</td>\n",
              "      <td>FIFA World Cup qualification</td>\n",
              "      <td>Buenos Aires</td>\n",
              "      <td>Argentina</td>\n",
              "      <td>False</td>\n",
              "      <td>0</td>\n",
              "      <td>Draw</td>\n",
              "    </tr>\n",
              "  </tbody>\n",
              "</table>\n",
              "</div>"
            ],
            "text/plain": [
              "   home_rank home_team_x  ...  goal_difference_y  matchstatus_y\n",
              "0       19.0    Colombia  ...                  0           Draw\n",
              "1       19.0    Colombia  ...                  0           Draw\n",
              "\n",
              "[2 rows x 33 columns]"
            ]
          },
          "metadata": {
            "tags": []
          },
          "execution_count": 43
        }
      ]
    },
    {
      "cell_type": "code",
      "metadata": {
        "colab": {
          "base_uri": "https://localhost:8080/"
        },
        "id": "9Des-FJLA-cc",
        "outputId": "d63eaef0-b4e0-409f-b63a-e465df8df6d5"
      },
      "source": [
        "#we will drop some of the columns\n",
        "#most of this columns have been duplicated\n",
        "merged3.drop(['total_points_x','cur_year_avg_x','date_x_x','date_y_x','city_x','country_x','neutral_y','matchstatus_y','goal_difference_y','country_y','city_y','total_points_y','cur_year_avg_y','date_x_y','date_y_y','home_team_y','home_score_y','away_score_y','tournament_y','confederation_y'],axis=1,inplace=True)\n",
        "merged3.columns"
      ],
      "execution_count": null,
      "outputs": [
        {
          "output_type": "execute_result",
          "data": {
            "text/plain": [
              "Index(['home_rank', 'home_team_x', 'confederation_x', 'year', 'month',\n",
              "       'away_team', 'home_score_x', 'away_score_x', 'tournament_x',\n",
              "       'neutral_x', 'goal_difference_x', 'matchstatus_x', 'away_rank'],\n",
              "      dtype='object')"
            ]
          },
          "metadata": {
            "tags": []
          },
          "execution_count": 44
        }
      ]
    },
    {
      "cell_type": "code",
      "metadata": {
        "colab": {
          "base_uri": "https://localhost:8080/",
          "height": 199
        },
        "id": "iOSBt1JXfWny",
        "outputId": "9046ff15-a56c-4cc7-d56d-b35d6778d1be"
      },
      "source": [
        "merged3.head(2)"
      ],
      "execution_count": null,
      "outputs": [
        {
          "output_type": "execute_result",
          "data": {
            "text/html": [
              "<div>\n",
              "<style scoped>\n",
              "    .dataframe tbody tr th:only-of-type {\n",
              "        vertical-align: middle;\n",
              "    }\n",
              "\n",
              "    .dataframe tbody tr th {\n",
              "        vertical-align: top;\n",
              "    }\n",
              "\n",
              "    .dataframe thead th {\n",
              "        text-align: right;\n",
              "    }\n",
              "</style>\n",
              "<table border=\"1\" class=\"dataframe\">\n",
              "  <thead>\n",
              "    <tr style=\"text-align: right;\">\n",
              "      <th></th>\n",
              "      <th>home_rank</th>\n",
              "      <th>home_team_x</th>\n",
              "      <th>confederation_x</th>\n",
              "      <th>year</th>\n",
              "      <th>month</th>\n",
              "      <th>away_team</th>\n",
              "      <th>home_score_x</th>\n",
              "      <th>away_score_x</th>\n",
              "      <th>tournament_x</th>\n",
              "      <th>neutral_x</th>\n",
              "      <th>goal_difference_x</th>\n",
              "      <th>matchstatus_x</th>\n",
              "      <th>away_rank</th>\n",
              "    </tr>\n",
              "  </thead>\n",
              "  <tbody>\n",
              "    <tr>\n",
              "      <th>0</th>\n",
              "      <td>19.0</td>\n",
              "      <td>Colombia</td>\n",
              "      <td>CONMEBOL</td>\n",
              "      <td>1993</td>\n",
              "      <td>08</td>\n",
              "      <td>Paraguay</td>\n",
              "      <td>0</td>\n",
              "      <td>0</td>\n",
              "      <td>FIFA World Cup qualification</td>\n",
              "      <td>False</td>\n",
              "      <td>0</td>\n",
              "      <td>Draw</td>\n",
              "      <td>67.0</td>\n",
              "    </tr>\n",
              "    <tr>\n",
              "      <th>1</th>\n",
              "      <td>19.0</td>\n",
              "      <td>Colombia</td>\n",
              "      <td>CONMEBOL</td>\n",
              "      <td>1993</td>\n",
              "      <td>08</td>\n",
              "      <td>Paraguay</td>\n",
              "      <td>0</td>\n",
              "      <td>0</td>\n",
              "      <td>FIFA World Cup qualification</td>\n",
              "      <td>False</td>\n",
              "      <td>0</td>\n",
              "      <td>Draw</td>\n",
              "      <td>67.0</td>\n",
              "    </tr>\n",
              "  </tbody>\n",
              "</table>\n",
              "</div>"
            ],
            "text/plain": [
              "   home_rank home_team_x  ... matchstatus_x away_rank\n",
              "0       19.0    Colombia  ...          Draw      67.0\n",
              "1       19.0    Colombia  ...          Draw      67.0\n",
              "\n",
              "[2 rows x 13 columns]"
            ]
          },
          "metadata": {
            "tags": []
          },
          "execution_count": 45
        }
      ]
    },
    {
      "cell_type": "code",
      "metadata": {
        "id": "SHWVKyccCqd3"
      },
      "source": [
        "merged3.rename(columns={'home_team_x':'home_team','confederation_x':'confederation','home_score_x':'home_score','away_score_x':'away_score','tournament_x':'tournament','neutral_x':'neutral','goal_difference_x':'goal_difference','matchstatus_x':'matchstatus'},inplace=True)"
      ],
      "execution_count": null,
      "outputs": []
    },
    {
      "cell_type": "code",
      "metadata": {
        "colab": {
          "base_uri": "https://localhost:8080/",
          "height": 204
        },
        "id": "Bx9SSQDp1Uys",
        "outputId": "cf102538-5851-42fc-f918-ece75dc0582d"
      },
      "source": [
        "merged3.describe().T"
      ],
      "execution_count": null,
      "outputs": [
        {
          "output_type": "execute_result",
          "data": {
            "text/html": [
              "<div>\n",
              "<style scoped>\n",
              "    .dataframe tbody tr th:only-of-type {\n",
              "        vertical-align: middle;\n",
              "    }\n",
              "\n",
              "    .dataframe tbody tr th {\n",
              "        vertical-align: top;\n",
              "    }\n",
              "\n",
              "    .dataframe thead th {\n",
              "        text-align: right;\n",
              "    }\n",
              "</style>\n",
              "<table border=\"1\" class=\"dataframe\">\n",
              "  <thead>\n",
              "    <tr style=\"text-align: right;\">\n",
              "      <th></th>\n",
              "      <th>count</th>\n",
              "      <th>mean</th>\n",
              "      <th>std</th>\n",
              "      <th>min</th>\n",
              "      <th>25%</th>\n",
              "      <th>50%</th>\n",
              "      <th>75%</th>\n",
              "      <th>max</th>\n",
              "    </tr>\n",
              "  </thead>\n",
              "  <tbody>\n",
              "    <tr>\n",
              "      <th>home_rank</th>\n",
              "      <td>26173.0</td>\n",
              "      <td>77.402590</td>\n",
              "      <td>50.272251</td>\n",
              "      <td>1.0</td>\n",
              "      <td>35.0</td>\n",
              "      <td>73.0</td>\n",
              "      <td>112.0</td>\n",
              "      <td>209.0</td>\n",
              "    </tr>\n",
              "    <tr>\n",
              "      <th>home_score</th>\n",
              "      <td>26173.0</td>\n",
              "      <td>1.359684</td>\n",
              "      <td>1.157080</td>\n",
              "      <td>0.0</td>\n",
              "      <td>0.0</td>\n",
              "      <td>1.0</td>\n",
              "      <td>2.0</td>\n",
              "      <td>4.0</td>\n",
              "    </tr>\n",
              "    <tr>\n",
              "      <th>away_score</th>\n",
              "      <td>26173.0</td>\n",
              "      <td>1.063424</td>\n",
              "      <td>1.116182</td>\n",
              "      <td>0.0</td>\n",
              "      <td>0.0</td>\n",
              "      <td>1.0</td>\n",
              "      <td>2.0</td>\n",
              "      <td>5.0</td>\n",
              "    </tr>\n",
              "    <tr>\n",
              "      <th>goal_difference</th>\n",
              "      <td>26173.0</td>\n",
              "      <td>0.296260</td>\n",
              "      <td>1.688020</td>\n",
              "      <td>-5.0</td>\n",
              "      <td>-1.0</td>\n",
              "      <td>0.0</td>\n",
              "      <td>1.0</td>\n",
              "      <td>4.0</td>\n",
              "    </tr>\n",
              "    <tr>\n",
              "      <th>away_rank</th>\n",
              "      <td>26173.0</td>\n",
              "      <td>77.879991</td>\n",
              "      <td>50.619766</td>\n",
              "      <td>1.0</td>\n",
              "      <td>36.0</td>\n",
              "      <td>72.0</td>\n",
              "      <td>113.0</td>\n",
              "      <td>209.0</td>\n",
              "    </tr>\n",
              "  </tbody>\n",
              "</table>\n",
              "</div>"
            ],
            "text/plain": [
              "                   count       mean        std  min   25%   50%    75%    max\n",
              "home_rank        26173.0  77.402590  50.272251  1.0  35.0  73.0  112.0  209.0\n",
              "home_score       26173.0   1.359684   1.157080  0.0   0.0   1.0    2.0    4.0\n",
              "away_score       26173.0   1.063424   1.116182  0.0   0.0   1.0    2.0    5.0\n",
              "goal_difference  26173.0   0.296260   1.688020 -5.0  -1.0   0.0    1.0    4.0\n",
              "away_rank        26173.0  77.879991  50.619766  1.0  36.0  72.0  113.0  209.0"
            ]
          },
          "metadata": {
            "tags": []
          },
          "execution_count": 47
        }
      ]
    },
    {
      "cell_type": "markdown",
      "metadata": {
        "id": "FY4EkR27D7_6"
      },
      "source": [
        "# ANALYSIS"
      ]
    },
    {
      "cell_type": "markdown",
      "metadata": {
        "id": "oAdDcT67D-QQ"
      },
      "source": [
        "##Univariate Analysis"
      ]
    },
    {
      "cell_type": "markdown",
      "metadata": {
        "id": "zqGwVt5LELKS"
      },
      "source": [
        "##### Match Status"
      ]
    },
    {
      "cell_type": "code",
      "metadata": {
        "colab": {
          "base_uri": "https://localhost:8080/",
          "height": 199
        },
        "id": "yYaS7HAy9j8Y",
        "outputId": "601840cb-dad8-40b9-e16f-f0ef31596180"
      },
      "source": [
        "merged3.head(2)"
      ],
      "execution_count": null,
      "outputs": [
        {
          "output_type": "execute_result",
          "data": {
            "text/html": [
              "<div>\n",
              "<style scoped>\n",
              "    .dataframe tbody tr th:only-of-type {\n",
              "        vertical-align: middle;\n",
              "    }\n",
              "\n",
              "    .dataframe tbody tr th {\n",
              "        vertical-align: top;\n",
              "    }\n",
              "\n",
              "    .dataframe thead th {\n",
              "        text-align: right;\n",
              "    }\n",
              "</style>\n",
              "<table border=\"1\" class=\"dataframe\">\n",
              "  <thead>\n",
              "    <tr style=\"text-align: right;\">\n",
              "      <th></th>\n",
              "      <th>home_rank</th>\n",
              "      <th>home_team</th>\n",
              "      <th>confederation</th>\n",
              "      <th>year</th>\n",
              "      <th>month</th>\n",
              "      <th>away_team</th>\n",
              "      <th>home_score</th>\n",
              "      <th>away_score</th>\n",
              "      <th>tournament</th>\n",
              "      <th>neutral</th>\n",
              "      <th>goal_difference</th>\n",
              "      <th>matchstatus</th>\n",
              "      <th>away_rank</th>\n",
              "    </tr>\n",
              "  </thead>\n",
              "  <tbody>\n",
              "    <tr>\n",
              "      <th>0</th>\n",
              "      <td>19.0</td>\n",
              "      <td>Colombia</td>\n",
              "      <td>CONMEBOL</td>\n",
              "      <td>1993</td>\n",
              "      <td>08</td>\n",
              "      <td>Paraguay</td>\n",
              "      <td>0</td>\n",
              "      <td>0</td>\n",
              "      <td>FIFA World Cup qualification</td>\n",
              "      <td>False</td>\n",
              "      <td>0</td>\n",
              "      <td>Draw</td>\n",
              "      <td>67.0</td>\n",
              "    </tr>\n",
              "    <tr>\n",
              "      <th>1</th>\n",
              "      <td>19.0</td>\n",
              "      <td>Colombia</td>\n",
              "      <td>CONMEBOL</td>\n",
              "      <td>1993</td>\n",
              "      <td>08</td>\n",
              "      <td>Paraguay</td>\n",
              "      <td>0</td>\n",
              "      <td>0</td>\n",
              "      <td>FIFA World Cup qualification</td>\n",
              "      <td>False</td>\n",
              "      <td>0</td>\n",
              "      <td>Draw</td>\n",
              "      <td>67.0</td>\n",
              "    </tr>\n",
              "  </tbody>\n",
              "</table>\n",
              "</div>"
            ],
            "text/plain": [
              "   home_rank home_team confederation  ... goal_difference matchstatus away_rank\n",
              "0       19.0  Colombia      CONMEBOL  ...               0        Draw      67.0\n",
              "1       19.0  Colombia      CONMEBOL  ...               0        Draw      67.0\n",
              "\n",
              "[2 rows x 13 columns]"
            ]
          },
          "metadata": {
            "tags": []
          },
          "execution_count": 48
        }
      ]
    },
    {
      "cell_type": "code",
      "metadata": {
        "id": "fZbF6Brn9ydk"
      },
      "source": [
        ""
      ],
      "execution_count": null,
      "outputs": []
    },
    {
      "cell_type": "code",
      "metadata": {
        "colab": {
          "base_uri": "https://localhost:8080/",
          "height": 496
        },
        "id": "Qb4nvTWkEUMu",
        "outputId": "34bf123d-522a-4382-fbbc-48029cb11fc2"
      },
      "source": [
        "plt.figure(figsize=(7,7))\n",
        "sns.countplot(merged3['matchstatus'],palette='hls')\n",
        "plt.show()"
      ],
      "execution_count": null,
      "outputs": [
        {
          "output_type": "stream",
          "text": [
            "/usr/local/lib/python3.7/dist-packages/seaborn/_decorators.py:43: FutureWarning: Pass the following variable as a keyword arg: x. From version 0.12, the only valid positional argument will be `data`, and passing other arguments without an explicit keyword will result in an error or misinterpretation.\n",
            "  FutureWarning\n"
          ],
          "name": "stderr"
        },
        {
          "output_type": "display_data",
          "data": {
            "image/png": "[encoded data removed]",
            "text/plain": [
              "<Figure size 504x504 with 1 Axes>"
            ]
          },
          "metadata": {
            "tags": [],
            "needs_background": "light"
          }
        }
      ]
    },
    {
      "cell_type": "markdown",
      "metadata": {
        "id": "k4UmM-aNP7zK"
      },
      "source": [
        "##### Goals scored by home team"
      ]
    },
    {
      "cell_type": "code",
      "metadata": {
        "colab": {
          "base_uri": "https://localhost:8080/",
          "height": 295
        },
        "id": "gXP9u2jHP7Ag",
        "outputId": "1ea3b339-0b81-440a-9d69-2c290abad497"
      },
      "source": [
        "home_goals = merged3['home_score']\n",
        "\n",
        "plt.hist(home_goals, bins=4, histtype='bar', rwidth=0.7)\n",
        "\n",
        "plt.xlabel('goals scored by home team')\n",
        "plt.ylabel('Count')\n",
        "plt.title('Histogram of Home Goals') \n",
        "plt.show()"
      ],
      "execution_count": null,
      "outputs": [
        {
          "output_type": "display_data",
          "data": {
            "image/png": "[encoded data removed]",
            "text/plain": [
              "<Figure size 432x288 with 1 Axes>"
            ]
          },
          "metadata": {
            "tags": [],
            "needs_background": "light"
          }
        }
      ]
    },
    {
      "cell_type": "markdown",
      "metadata": {
        "id": "X1MMNPQUQ0nC"
      },
      "source": [
        "##### Goals by away team"
      ]
    },
    {
      "cell_type": "code",
      "metadata": {
        "colab": {
          "base_uri": "https://localhost:8080/",
          "height": 295
        },
        "id": "v5mz4yErQ3cC",
        "outputId": "3e7886bb-b49b-4433-f3ff-67d9db7bfb9b"
      },
      "source": [
        "away_goals=merged3['away_score']\n",
        "plt.hist(away_goals, bins=4, histtype='bar', rwidth=0.7)\n",
        "\n",
        "plt.xlabel('goal scored by away team')\n",
        "plt.ylabel('Count')\n",
        "plt.title('Histogram of Away Goals') \n",
        "plt.show()"
      ],
      "execution_count": null,
      "outputs": [
        {
          "output_type": "display_data",
          "data": {
            "image/png": "[encoded data removed]",
            "text/plain": [
              "<Figure size 432x288 with 1 Axes>"
            ]
          },
          "metadata": {
            "tags": [],
            "needs_background": "light"
          }
        }
      ]
    },
    {
      "cell_type": "markdown",
      "metadata": {
        "id": "nPOLfOltJHQl"
      },
      "source": [
        "##### tournament type"
      ]
    },
    {
      "cell_type": "code",
      "metadata": {
        "colab": {
          "base_uri": "https://localhost:8080/"
        },
        "id": "4jZ6P3Bj-jtK",
        "outputId": "450ef3cd-7d34-45a3-d47a-b27b8260f54a"
      },
      "source": [
        "results.tournament.value_counts().head(5).plot(kind='bar',figsize=(6,6))\n",
        "plt.title('tournamnets with the highest number of game records')\n",
        "plt.show()"
      ],
      "execution_count": null,
      "outputs": [
        {
          "output_type": "display_data",
          "data": {
            "image/png": "[encoded data removed]",
            "text/plain": [
              "<Figure size 432x432 with 1 Axes>"
            ]
          },
          "metadata": {
            "tags": [],
            "needs_background": "light"
          }
        }
      ]
    },
    {
      "cell_type": "markdown",
      "metadata": {
        "id": "p5S8Q9q9JyPu"
      },
      "source": [
        "##### Home Team"
      ]
    },
    {
      "cell_type": "code",
      "metadata": {
        "colab": {
          "base_uri": "https://localhost:8080/"
        },
        "id": "Hj0PAozQJ9Nf",
        "outputId": "32dcb49f-8b9f-431e-f128-a7165285e969"
      },
      "source": [
        "explode=0.1,0,0,0,0\n",
        "results.home_team.value_counts().head(5).plot(kind='pie',autopct='%1.3f%%',explode=explode)\n",
        "plt.title('countries with the highest number of matches played')\n",
        "plt.show()"
      ],
      "execution_count": null,
      "outputs": [
        {
          "output_type": "display_data",
          "data": {
            "image/png": "[encoded data removed]",
            "text/plain": [
              "<Figure size 432x288 with 1 Axes>"
            ]
          },
          "metadata": {
            "tags": []
          }
        }
      ]
    },
    {
      "cell_type": "markdown",
      "metadata": {
        "id": "iCoDLO4JEAu7"
      },
      "source": [
        "## Bivariate Analysis"
      ]
    },
    {
      "cell_type": "markdown",
      "metadata": {
        "id": "R17L6SebNtxV"
      },
      "source": [
        "##### home team vs Match Status"
      ]
    },
    {
      "cell_type": "code",
      "metadata": {
        "colab": {
          "base_uri": "https://localhost:8080/",
          "height": 450
        },
        "id": "tK9lqFSSN4qz",
        "outputId": "a1477112-2bcf-4536-95f3-1cb45e74b254"
      },
      "source": [
        "pd.crosstab(results.home_team,results.matchstatus,margins=True,margins_name='Total')"
      ],
      "execution_count": null,
      "outputs": [
        {
          "output_type": "execute_result",
          "data": {
            "text/html": [
              "<div>\n",
              "<style scoped>\n",
              "    .dataframe tbody tr th:only-of-type {\n",
              "        vertical-align: middle;\n",
              "    }\n",
              "\n",
              "    .dataframe tbody tr th {\n",
              "        vertical-align: top;\n",
              "    }\n",
              "\n",
              "    .dataframe thead th {\n",
              "        text-align: right;\n",
              "    }\n",
              "</style>\n",
              "<table border=\"1\" class=\"dataframe\">\n",
              "  <thead>\n",
              "    <tr style=\"text-align: right;\">\n",
              "      <th>matchstatus</th>\n",
              "      <th>Draw</th>\n",
              "      <th>Loss</th>\n",
              "      <th>Win</th>\n",
              "      <th>Total</th>\n",
              "    </tr>\n",
              "    <tr>\n",
              "      <th>home_team</th>\n",
              "      <th></th>\n",
              "      <th></th>\n",
              "      <th></th>\n",
              "      <th></th>\n",
              "    </tr>\n",
              "  </thead>\n",
              "  <tbody>\n",
              "    <tr>\n",
              "      <th>Abkhazia</th>\n",
              "      <td>7</td>\n",
              "      <td>2</td>\n",
              "      <td>7</td>\n",
              "      <td>16</td>\n",
              "    </tr>\n",
              "    <tr>\n",
              "      <th>Afghanistan</th>\n",
              "      <td>6</td>\n",
              "      <td>10</td>\n",
              "      <td>14</td>\n",
              "      <td>30</td>\n",
              "    </tr>\n",
              "    <tr>\n",
              "      <th>Albania</th>\n",
              "      <td>27</td>\n",
              "      <td>46</td>\n",
              "      <td>44</td>\n",
              "      <td>117</td>\n",
              "    </tr>\n",
              "    <tr>\n",
              "      <th>Alderney</th>\n",
              "      <td>0</td>\n",
              "      <td>6</td>\n",
              "      <td>0</td>\n",
              "      <td>6</td>\n",
              "    </tr>\n",
              "    <tr>\n",
              "      <th>Algeria</th>\n",
              "      <td>30</td>\n",
              "      <td>35</td>\n",
              "      <td>73</td>\n",
              "      <td>138</td>\n",
              "    </tr>\n",
              "    <tr>\n",
              "      <th>...</th>\n",
              "      <td>...</td>\n",
              "      <td>...</td>\n",
              "      <td>...</td>\n",
              "      <td>...</td>\n",
              "    </tr>\n",
              "    <tr>\n",
              "      <th>Zambia</th>\n",
              "      <td>63</td>\n",
              "      <td>26</td>\n",
              "      <td>87</td>\n",
              "      <td>176</td>\n",
              "    </tr>\n",
              "    <tr>\n",
              "      <th>Zanzibar</th>\n",
              "      <td>6</td>\n",
              "      <td>10</td>\n",
              "      <td>11</td>\n",
              "      <td>27</td>\n",
              "    </tr>\n",
              "    <tr>\n",
              "      <th>Zimbabwe</th>\n",
              "      <td>37</td>\n",
              "      <td>20</td>\n",
              "      <td>66</td>\n",
              "      <td>123</td>\n",
              "    </tr>\n",
              "    <tr>\n",
              "      <th>Åland Islands</th>\n",
              "      <td>4</td>\n",
              "      <td>6</td>\n",
              "      <td>10</td>\n",
              "      <td>20</td>\n",
              "    </tr>\n",
              "    <tr>\n",
              "      <th>Total</th>\n",
              "      <td>5570</td>\n",
              "      <td>6223</td>\n",
              "      <td>10133</td>\n",
              "      <td>21926</td>\n",
              "    </tr>\n",
              "  </tbody>\n",
              "</table>\n",
              "<p>292 rows × 4 columns</p>\n",
              "</div>"
            ],
            "text/plain": [
              "matchstatus    Draw  Loss    Win  Total\n",
              "home_team                              \n",
              "Abkhazia          7     2      7     16\n",
              "Afghanistan       6    10     14     30\n",
              "Albania          27    46     44    117\n",
              "Alderney          0     6      0      6\n",
              "Algeria          30    35     73    138\n",
              "...             ...   ...    ...    ...\n",
              "Zambia           63    26     87    176\n",
              "Zanzibar          6    10     11     27\n",
              "Zimbabwe         37    20     66    123\n",
              "Åland Islands     4     6     10     20\n",
              "Total          5570  6223  10133  21926\n",
              "\n",
              "[292 rows x 4 columns]"
            ]
          },
          "metadata": {
            "tags": []
          },
          "execution_count": 54
        }
      ]
    },
    {
      "cell_type": "code",
      "metadata": {
        "colab": {
          "base_uri": "https://localhost:8080/",
          "height": 353
        },
        "id": "MZoIoGVfJ23z",
        "outputId": "5af32b81-bdee-45b2-831b-c0b76c060636"
      },
      "source": [
        "sns.heatmap(merged3.corr())"
      ],
      "execution_count": null,
      "outputs": [
        {
          "output_type": "execute_result",
          "data": {
            "text/plain": [
              "<matplotlib.axes._subplots.AxesSubplot at 0x7facdb892150>"
            ]
          },
          "metadata": {
            "tags": []
          },
          "execution_count": 55
        },
        {
          "output_type": "display_data",
          "data": {
            "image/png": "[encoded data removed]",
            "text/plain": [
              "<Figure size 432x288 with 2 Axes>"
            ]
          },
          "metadata": {
            "tags": [],
            "needs_background": "light"
          }
        }
      ]
    },
    {
      "cell_type": "code",
      "metadata": {
        "id": "-f4X5rdulYnm"
      },
      "source": [
        "#away score and goal difference are highly correlated\n",
        "#we will drop on of the columns\n",
        "#this will help remove multicollinarity in our models"
      ],
      "execution_count": null,
      "outputs": []
    },
    {
      "cell_type": "markdown",
      "metadata": {
        "id": "X9KK08mKEGIF"
      },
      "source": [
        "## Multivariate Analysis"
      ]
    },
    {
      "cell_type": "markdown",
      "metadata": {
        "id": "pu3ovx0CUqCN"
      },
      "source": [
        "We will perform LDA \n",
        "\n",
        "LDA is linear discriminant analysis. It helps us to chose the features that explain the dependent variable.\n",
        "\n",
        "It helps us have a parsimonious model"
      ]
    },
    {
      "cell_type": "code",
      "metadata": {
        "id": "y9Hbr2nXU9Wa"
      },
      "source": [
        "#To use LDA, we have to encode all the variables\n",
        "#this is because LDA model can only read numerical values\n",
        "from sklearn.preprocessing import LabelEncoder\n",
        "le = LabelEncoder()\n",
        "merged3.home_team=le.fit_transform(merged3.home_team)\n",
        "merged3.away_team=le.fit_transform(merged3.away_team)\n",
        "merged3.tournament=le.fit_transform(merged3.tournament)\n",
        "merged3.neutral=le.fit_transform(merged3.neutral)\n",
        "merged3.matchstatus=le.fit_transform(merged3.matchstatus)\n",
        "merged3.confederation=le.fit_transform(merged3.confederation)"
      ],
      "execution_count": null,
      "outputs": []
    },
    {
      "cell_type": "markdown",
      "metadata": {
        "id": "vehXnCCskbbp"
      },
      "source": [
        "##### LDA for Logisitc Regression"
      ]
    },
    {
      "cell_type": "markdown",
      "metadata": {
        "id": "M_XADpWYU2-B"
      },
      "source": [
        "##### using lda to chose the variables that will be important in helping us in logisitc regression"
      ]
    },
    {
      "cell_type": "code",
      "metadata": {
        "id": "hBtFyJHCUpo4"
      },
      "source": [
        "#define independent (X) and dependent (y) variables\n",
        "X=merged3[['home_team', 'away_team', 'home_score', 'away_score','away_rank','tournament','neutral','home_rank','confederation','goal_difference']]\n",
        "y=merged3['matchstatus']"
      ],
      "execution_count": null,
      "outputs": []
    },
    {
      "cell_type": "code",
      "metadata": {
        "colab": {
          "base_uri": "https://localhost:8080/"
        },
        "id": "Zn1nRSRNXf-w",
        "outputId": "a7977bd2-5349-4138-f304-49621be1de8f"
      },
      "source": [
        "#We will pefrom LDA and get its results\n",
        "from sklearn.discriminant_analysis import LinearDiscriminantAnalysis as LDA\n",
        "lda=LDA()\n",
        "lda_=lda.fit(X,y)\n",
        "lda_x=lda_.transform(X)\n",
        "lda_.coef_"
      ],
      "execution_count": null,
      "outputs": [
        {
          "output_type": "execute_result",
          "data": {
            "text/plain": [
              "array([[ 3.84910404e-04, -2.51416716e-04, -4.73296290e-01,\n",
              "        -2.18038054e-01, -1.56027168e-03, -1.06878032e-03,\n",
              "        -1.57766684e-02, -2.49085505e-04, -3.86612768e-02,\n",
              "        -2.96018361e-01],\n",
              "       [ 3.61890837e-04,  1.04639245e-03, -7.91600965e-01,\n",
              "         1.19080458e+00, -2.13377738e-03,  3.12159494e-03,\n",
              "         1.68247095e-01,  3.71888400e-03,  5.12933936e-02,\n",
              "        -2.10174123e+00],\n",
              "       [-4.52731428e-04, -5.33521694e-04,  7.80754079e-01,\n",
              "        -6.45848744e-01,  2.26624950e-03, -1.41041435e-03,\n",
              "        -9.97941674e-02, -2.26245642e-03, -1.11824014e-02,\n",
              "         1.52691517e+00]])"
            ]
          },
          "metadata": {
            "tags": []
          },
          "execution_count": 59
        }
      ]
    },
    {
      "cell_type": "code",
      "metadata": {
        "colab": {
          "base_uri": "https://localhost:8080/",
          "height": 359
        },
        "id": "OO3sael4X3jG",
        "outputId": "8f5a3f83-5e59-4fd6-dcda-60d08974e5ac"
      },
      "source": [
        "#the reults are in array type\n",
        "#we will convert them into a dataframe\n",
        "result=pd.DataFrame(index=X.columns.values,data=lda_.coef_[0])\n",
        "result.rename(columns={0:'coefficients from LDA'},inplace=True)\n",
        "result.sort_values(by='coefficients from LDA',ascending=False)"
      ],
      "execution_count": null,
      "outputs": [
        {
          "output_type": "execute_result",
          "data": {
            "text/html": [
              "<div>\n",
              "<style scoped>\n",
              "    .dataframe tbody tr th:only-of-type {\n",
              "        vertical-align: middle;\n",
              "    }\n",
              "\n",
              "    .dataframe tbody tr th {\n",
              "        vertical-align: top;\n",
              "    }\n",
              "\n",
              "    .dataframe thead th {\n",
              "        text-align: right;\n",
              "    }\n",
              "</style>\n",
              "<table border=\"1\" class=\"dataframe\">\n",
              "  <thead>\n",
              "    <tr style=\"text-align: right;\">\n",
              "      <th></th>\n",
              "      <th>coefficients from LDA</th>\n",
              "    </tr>\n",
              "  </thead>\n",
              "  <tbody>\n",
              "    <tr>\n",
              "      <th>home_team</th>\n",
              "      <td>0.000385</td>\n",
              "    </tr>\n",
              "    <tr>\n",
              "      <th>home_rank</th>\n",
              "      <td>-0.000249</td>\n",
              "    </tr>\n",
              "    <tr>\n",
              "      <th>away_team</th>\n",
              "      <td>-0.000251</td>\n",
              "    </tr>\n",
              "    <tr>\n",
              "      <th>tournament</th>\n",
              "      <td>-0.001069</td>\n",
              "    </tr>\n",
              "    <tr>\n",
              "      <th>away_rank</th>\n",
              "      <td>-0.001560</td>\n",
              "    </tr>\n",
              "    <tr>\n",
              "      <th>neutral</th>\n",
              "      <td>-0.015777</td>\n",
              "    </tr>\n",
              "    <tr>\n",
              "      <th>confederation</th>\n",
              "      <td>-0.038661</td>\n",
              "    </tr>\n",
              "    <tr>\n",
              "      <th>away_score</th>\n",
              "      <td>-0.218038</td>\n",
              "    </tr>\n",
              "    <tr>\n",
              "      <th>goal_difference</th>\n",
              "      <td>-0.296018</td>\n",
              "    </tr>\n",
              "    <tr>\n",
              "      <th>home_score</th>\n",
              "      <td>-0.473296</td>\n",
              "    </tr>\n",
              "  </tbody>\n",
              "</table>\n",
              "</div>"
            ],
            "text/plain": [
              "                 coefficients from LDA\n",
              "home_team                     0.000385\n",
              "home_rank                    -0.000249\n",
              "away_team                    -0.000251\n",
              "tournament                   -0.001069\n",
              "away_rank                    -0.001560\n",
              "neutral                      -0.015777\n",
              "confederation                -0.038661\n",
              "away_score                   -0.218038\n",
              "goal_difference              -0.296018\n",
              "home_score                   -0.473296"
            ]
          },
          "metadata": {
            "tags": []
          },
          "execution_count": 60
        }
      ]
    },
    {
      "cell_type": "code",
      "metadata": {
        "colab": {
          "base_uri": "https://localhost:8080/",
          "height": 131
        },
        "id": "hEANTV8pkq1l",
        "outputId": "9808ebe1-7ca8-4cdf-8fff-31277badc017"
      },
      "source": [
        "merged3.head(2)"
      ],
      "execution_count": null,
      "outputs": [
        {
          "output_type": "execute_result",
          "data": {
            "text/html": [
              "<div>\n",
              "<style scoped>\n",
              "    .dataframe tbody tr th:only-of-type {\n",
              "        vertical-align: middle;\n",
              "    }\n",
              "\n",
              "    .dataframe tbody tr th {\n",
              "        vertical-align: top;\n",
              "    }\n",
              "\n",
              "    .dataframe thead th {\n",
              "        text-align: right;\n",
              "    }\n",
              "</style>\n",
              "<table border=\"1\" class=\"dataframe\">\n",
              "  <thead>\n",
              "    <tr style=\"text-align: right;\">\n",
              "      <th></th>\n",
              "      <th>home_rank</th>\n",
              "      <th>home_team</th>\n",
              "      <th>confederation</th>\n",
              "      <th>year</th>\n",
              "      <th>month</th>\n",
              "      <th>away_team</th>\n",
              "      <th>home_score</th>\n",
              "      <th>away_score</th>\n",
              "      <th>tournament</th>\n",
              "      <th>neutral</th>\n",
              "      <th>goal_difference</th>\n",
              "      <th>matchstatus</th>\n",
              "      <th>away_rank</th>\n",
              "    </tr>\n",
              "  </thead>\n",
              "  <tbody>\n",
              "    <tr>\n",
              "      <th>0</th>\n",
              "      <td>19.0</td>\n",
              "      <td>41</td>\n",
              "      <td>3</td>\n",
              "      <td>1993</td>\n",
              "      <td>08</td>\n",
              "      <td>137</td>\n",
              "      <td>0</td>\n",
              "      <td>0</td>\n",
              "      <td>26</td>\n",
              "      <td>0</td>\n",
              "      <td>0</td>\n",
              "      <td>0</td>\n",
              "      <td>67.0</td>\n",
              "    </tr>\n",
              "    <tr>\n",
              "      <th>1</th>\n",
              "      <td>19.0</td>\n",
              "      <td>41</td>\n",
              "      <td>3</td>\n",
              "      <td>1993</td>\n",
              "      <td>08</td>\n",
              "      <td>137</td>\n",
              "      <td>0</td>\n",
              "      <td>0</td>\n",
              "      <td>26</td>\n",
              "      <td>0</td>\n",
              "      <td>0</td>\n",
              "      <td>0</td>\n",
              "      <td>67.0</td>\n",
              "    </tr>\n",
              "  </tbody>\n",
              "</table>\n",
              "</div>"
            ],
            "text/plain": [
              "   home_rank  home_team  confederation  ... goal_difference matchstatus  away_rank\n",
              "0       19.0         41              3  ...               0           0       67.0\n",
              "1       19.0         41              3  ...               0           0       67.0\n",
              "\n",
              "[2 rows x 13 columns]"
            ]
          },
          "metadata": {
            "tags": []
          },
          "execution_count": 61
        }
      ]
    },
    {
      "cell_type": "markdown",
      "metadata": {
        "id": "7WpACRAQkg7l"
      },
      "source": [
        "##### LDA for Home Goals"
      ]
    },
    {
      "cell_type": "code",
      "metadata": {
        "id": "3VKaBxh2kqIX"
      },
      "source": [
        "#define independent (X) and dependent (y) variables\n",
        "X1=merged3[['home_team', 'away_team','away_score','away_rank','tournament','neutral','home_rank','confederation','matchstatus']]\n",
        "y1=merged3['home_score']"
      ],
      "execution_count": null,
      "outputs": []
    },
    {
      "cell_type": "code",
      "metadata": {
        "colab": {
          "base_uri": "https://localhost:8080/"
        },
        "id": "IGE3bj1vlvx7",
        "outputId": "ea92ffe7-5ca2-4f6b-e710-dbdb107fb800"
      },
      "source": [
        "#We will pefrom LDA and get its results\n",
        "from sklearn.discriminant_analysis import LinearDiscriminantAnalysis as LDA\n",
        "lda=LDA()\n",
        "lda_=lda.fit(X1,y1)\n",
        "lda_x=lda_.transform(X1)\n",
        "lda_.coef_"
      ],
      "execution_count": null,
      "outputs": [
        {
          "output_type": "execute_result",
          "data": {
            "text/plain": [
              "array([[-1.05505807e-04,  4.35132893e-05, -2.11808233e-01,\n",
              "        -1.12252076e-02,  1.15688363e-03,  2.43565222e-01,\n",
              "         1.20430998e-02,  2.55665621e-02, -1.20855430e+00],\n",
              "       [ 2.03350726e-04,  1.80574909e-04, -7.23547391e-02,\n",
              "        -2.25569662e-03,  8.41544671e-04,  2.00099325e-02,\n",
              "         1.15697134e-03, -1.67172531e-02, -3.98268921e-01],\n",
              "       [ 9.92878012e-05, -3.16180901e-04,  1.51381446e-01,\n",
              "         4.67182480e-03, -7.16483053e-04, -9.64099859e-02,\n",
              "        -5.62667770e-03, -1.14710552e-02,  8.13634658e-01],\n",
              "       [-4.39979509e-04,  2.75893231e-04,  2.44095609e-01,\n",
              "         1.28601735e-02, -1.22981643e-03, -3.08189709e-01,\n",
              "        -1.20412299e-02, -1.13500125e-02,  1.48548936e+00],\n",
              "       [-1.78138009e-04, -4.56840626e-04,  3.08000320e-01,\n",
              "         2.17166717e-02, -4.90969063e-03, -2.68081151e-01,\n",
              "        -1.70281706e-02,  4.25382176e-02,  1.69973202e+00]])"
            ]
          },
          "metadata": {
            "tags": []
          },
          "execution_count": 63
        }
      ]
    },
    {
      "cell_type": "code",
      "metadata": {
        "colab": {
          "base_uri": "https://localhost:8080/",
          "height": 328
        },
        "id": "jc0KCd5dl11b",
        "outputId": "4231ff84-4a65-42c6-8c9e-da2801f422b2"
      },
      "source": [
        "#the reults are in array type\n",
        "#we will convert them into a dataframe\n",
        "result=pd.DataFrame(index=X1.columns.values,data=lda_.coef_[0])\n",
        "result.rename(columns={0:'coefficients from LDA'},inplace=True)\n",
        "result.sort_values(by='coefficients from LDA',ascending=False)"
      ],
      "execution_count": null,
      "outputs": [
        {
          "output_type": "execute_result",
          "data": {
            "text/html": [
              "<div>\n",
              "<style scoped>\n",
              "    .dataframe tbody tr th:only-of-type {\n",
              "        vertical-align: middle;\n",
              "    }\n",
              "\n",
              "    .dataframe tbody tr th {\n",
              "        vertical-align: top;\n",
              "    }\n",
              "\n",
              "    .dataframe thead th {\n",
              "        text-align: right;\n",
              "    }\n",
              "</style>\n",
              "<table border=\"1\" class=\"dataframe\">\n",
              "  <thead>\n",
              "    <tr style=\"text-align: right;\">\n",
              "      <th></th>\n",
              "      <th>coefficients from LDA</th>\n",
              "    </tr>\n",
              "  </thead>\n",
              "  <tbody>\n",
              "    <tr>\n",
              "      <th>neutral</th>\n",
              "      <td>0.243565</td>\n",
              "    </tr>\n",
              "    <tr>\n",
              "      <th>confederation</th>\n",
              "      <td>0.025567</td>\n",
              "    </tr>\n",
              "    <tr>\n",
              "      <th>home_rank</th>\n",
              "      <td>0.012043</td>\n",
              "    </tr>\n",
              "    <tr>\n",
              "      <th>tournament</th>\n",
              "      <td>0.001157</td>\n",
              "    </tr>\n",
              "    <tr>\n",
              "      <th>away_team</th>\n",
              "      <td>0.000044</td>\n",
              "    </tr>\n",
              "    <tr>\n",
              "      <th>home_team</th>\n",
              "      <td>-0.000106</td>\n",
              "    </tr>\n",
              "    <tr>\n",
              "      <th>away_rank</th>\n",
              "      <td>-0.011225</td>\n",
              "    </tr>\n",
              "    <tr>\n",
              "      <th>away_score</th>\n",
              "      <td>-0.211808</td>\n",
              "    </tr>\n",
              "    <tr>\n",
              "      <th>matchstatus</th>\n",
              "      <td>-1.208554</td>\n",
              "    </tr>\n",
              "  </tbody>\n",
              "</table>\n",
              "</div>"
            ],
            "text/plain": [
              "               coefficients from LDA\n",
              "neutral                     0.243565\n",
              "confederation               0.025567\n",
              "home_rank                   0.012043\n",
              "tournament                  0.001157\n",
              "away_team                   0.000044\n",
              "home_team                  -0.000106\n",
              "away_rank                  -0.011225\n",
              "away_score                 -0.211808\n",
              "matchstatus                -1.208554"
            ]
          },
          "metadata": {
            "tags": []
          },
          "execution_count": 64
        }
      ]
    },
    {
      "cell_type": "code",
      "metadata": {
        "id": "mHpnSr0qtQ0V"
      },
      "source": [
        "#the important features in explaining home goals are\n",
        "# neutral,confederation,home_rank,tournament,away_team"
      ],
      "execution_count": null,
      "outputs": []
    },
    {
      "cell_type": "markdown",
      "metadata": {
        "id": "OHVgtXHVklTp"
      },
      "source": [
        "##### LDA for away goals"
      ]
    },
    {
      "cell_type": "code",
      "metadata": {
        "id": "krgk0UDAmFsW"
      },
      "source": [
        "#define independent (X) and dependent (y) variables\n",
        "X2=merged3[['home_team', 'away_team','home_score','away_rank','tournament','neutral','home_rank','confederation','matchstatus']]\n",
        "y2=merged3['away_score']"
      ],
      "execution_count": null,
      "outputs": []
    },
    {
      "cell_type": "code",
      "metadata": {
        "colab": {
          "base_uri": "https://localhost:8080/"
        },
        "id": "yvqd5vG4mGMz",
        "outputId": "91d84d94-9f30-44d9-be4d-cf942468e7a3"
      },
      "source": [
        "#We will pefrom LDA and get its results\n",
        "from sklearn.discriminant_analysis import LinearDiscriminantAnalysis as LDA\n",
        "lda=LDA()\n",
        "lda_=lda.fit(X2,y2)\n",
        "lda_x=lda_.transform(X2)\n",
        "lda_.coef_"
      ],
      "execution_count": null,
      "outputs": [
        {
          "output_type": "execute_result",
          "data": {
            "text/plain": [
              "array([[-1.01847123e-04,  1.52074423e-05, -2.93889657e-01,\n",
              "         8.52762944e-03, -1.31481758e-03, -3.26419884e-01,\n",
              "        -8.71905579e-03, -2.72607635e-02,  6.05526303e-01],\n",
              "       [-2.31624284e-04,  7.06120369e-05,  1.34308340e-01,\n",
              "        -2.08552690e-05,  1.03493111e-03, -1.31545824e-02,\n",
              "        -6.10894408e-04, -1.25686259e-02, -2.88584756e-01],\n",
              "       [ 5.66529628e-05,  2.22742036e-04,  2.77927563e-01,\n",
              "        -8.10847677e-03, -1.97241035e-04,  3.54980669e-01,\n",
              "         8.06368854e-03,  4.00873951e-02, -5.84688620e-01],\n",
              "       [ 5.75121073e-04, -3.13790604e-04,  2.57959624e-01,\n",
              "        -1.46080731e-02,  7.63859694e-04,  5.02549211e-01,\n",
              "         1.59692347e-02,  7.13086671e-02, -3.95540718e-01],\n",
              "       [ 1.79472918e-03, -2.21922609e-03, -2.33657439e-02,\n",
              "        -1.90959084e-02,  7.50476154e-03,  7.83290756e-01,\n",
              "         2.34379551e-02,  5.67926316e-02, -6.21254956e-02],\n",
              "       [ 1.63163973e-03,  1.15578281e-03, -6.42398026e-02,\n",
              "        -2.19833751e-02, -5.97404459e-03,  7.84501924e-01,\n",
              "         2.95513350e-02,  7.08544215e-02,  4.97969070e-02]])"
            ]
          },
          "metadata": {
            "tags": []
          },
          "execution_count": 66
        }
      ]
    },
    {
      "cell_type": "code",
      "metadata": {
        "colab": {
          "base_uri": "https://localhost:8080/",
          "height": 328
        },
        "id": "Kvhud38fmM_Z",
        "outputId": "7668f43d-7b3a-42c5-cf67-50c2b15579c4"
      },
      "source": [
        "#the reults are in array type\n",
        "#we will convert them into a dataframe\n",
        "result=pd.DataFrame(index=X2.columns.values,data=lda_.coef_[0])\n",
        "result.rename(columns={0:'coefficients from LDA'},inplace=True)\n",
        "result.sort_values(by='coefficients from LDA',ascending=False)"
      ],
      "execution_count": null,
      "outputs": [
        {
          "output_type": "execute_result",
          "data": {
            "text/html": [
              "<div>\n",
              "<style scoped>\n",
              "    .dataframe tbody tr th:only-of-type {\n",
              "        vertical-align: middle;\n",
              "    }\n",
              "\n",
              "    .dataframe tbody tr th {\n",
              "        vertical-align: top;\n",
              "    }\n",
              "\n",
              "    .dataframe thead th {\n",
              "        text-align: right;\n",
              "    }\n",
              "</style>\n",
              "<table border=\"1\" class=\"dataframe\">\n",
              "  <thead>\n",
              "    <tr style=\"text-align: right;\">\n",
              "      <th></th>\n",
              "      <th>coefficients from LDA</th>\n",
              "    </tr>\n",
              "  </thead>\n",
              "  <tbody>\n",
              "    <tr>\n",
              "      <th>matchstatus</th>\n",
              "      <td>0.605526</td>\n",
              "    </tr>\n",
              "    <tr>\n",
              "      <th>away_rank</th>\n",
              "      <td>0.008528</td>\n",
              "    </tr>\n",
              "    <tr>\n",
              "      <th>away_team</th>\n",
              "      <td>0.000015</td>\n",
              "    </tr>\n",
              "    <tr>\n",
              "      <th>home_team</th>\n",
              "      <td>-0.000102</td>\n",
              "    </tr>\n",
              "    <tr>\n",
              "      <th>tournament</th>\n",
              "      <td>-0.001315</td>\n",
              "    </tr>\n",
              "    <tr>\n",
              "      <th>home_rank</th>\n",
              "      <td>-0.008719</td>\n",
              "    </tr>\n",
              "    <tr>\n",
              "      <th>confederation</th>\n",
              "      <td>-0.027261</td>\n",
              "    </tr>\n",
              "    <tr>\n",
              "      <th>home_score</th>\n",
              "      <td>-0.293890</td>\n",
              "    </tr>\n",
              "    <tr>\n",
              "      <th>neutral</th>\n",
              "      <td>-0.326420</td>\n",
              "    </tr>\n",
              "  </tbody>\n",
              "</table>\n",
              "</div>"
            ],
            "text/plain": [
              "               coefficients from LDA\n",
              "matchstatus                 0.605526\n",
              "away_rank                   0.008528\n",
              "away_team                   0.000015\n",
              "home_team                  -0.000102\n",
              "tournament                 -0.001315\n",
              "home_rank                  -0.008719\n",
              "confederation              -0.027261\n",
              "home_score                 -0.293890\n",
              "neutral                    -0.326420"
            ]
          },
          "metadata": {
            "tags": []
          },
          "execution_count": 67
        }
      ]
    },
    {
      "cell_type": "code",
      "metadata": {
        "id": "ZBlzf_BznFIO"
      },
      "source": [
        "#the importan featurees in predicitng home score \n",
        "#matchstatus,away_rank,away_team"
      ],
      "execution_count": null,
      "outputs": []
    },
    {
      "cell_type": "markdown",
      "metadata": {
        "id": "-jDXSvFfmOg1"
      },
      "source": [
        "# Modelling"
      ]
    },
    {
      "cell_type": "markdown",
      "metadata": {
        "id": "UZ4tzBRbZBTc"
      },
      "source": [
        "### Logistic Regression"
      ]
    },
    {
      "cell_type": "code",
      "metadata": {
        "colab": {
          "base_uri": "https://localhost:8080/",
          "height": 575
        },
        "id": "zuctrgUPZKCJ",
        "outputId": "7b601fa4-b12b-4950-fb3c-d68f9d30221a"
      },
      "source": [
        "#Defining our new X variables\n",
        "X=merged3[['home_team', 'home_rank','away_team','tournament','away_rank','neutral']].values\n",
        "y=merged3['matchstatus'].values\n",
        "\n",
        "#Train and test\n",
        "X_train, X_test, y_train, y_test=train_test_split(X,y,test_size=0.2,random_state=0)\n",
        "\n",
        "#calling the function\n",
        "le=LogisticRegression()\n",
        "le.fit(X_train, y_train)\n",
        "#predict\n",
        "y_pred=le.predict(X_test)\n",
        "#Compare and show\n",
        "comparison_frame = pd.DataFrame({'Actual': y_test.flatten(), 'Predicted': y_pred.flatten()})\n",
        "comparison_frame"
      ],
      "execution_count": null,
      "outputs": [
        {
          "output_type": "stream",
          "text": [
            "/usr/local/lib/python3.7/dist-packages/sklearn/linear_model/_logistic.py:940: ConvergenceWarning: lbfgs failed to converge (status=1):\n",
            "STOP: TOTAL NO. of ITERATIONS REACHED LIMIT.\n",
            "\n",
            "Increase the number of iterations (max_iter) or scale the data as shown in:\n",
            "    https://scikit-learn.org/stable/modules/preprocessing.html\n",
            "Please also refer to the documentation for alternative solver options:\n",
            "    https://scikit-learn.org/stable/modules/linear_model.html#logistic-regression\n",
            "  extra_warning_msg=_LOGISTIC_SOLVER_CONVERGENCE_MSG)\n"
          ],
          "name": "stderr"
        },
        {
          "output_type": "execute_result",
          "data": {
            "text/html": [
              "<div>\n",
              "<style scoped>\n",
              "    .dataframe tbody tr th:only-of-type {\n",
              "        vertical-align: middle;\n",
              "    }\n",
              "\n",
              "    .dataframe tbody tr th {\n",
              "        vertical-align: top;\n",
              "    }\n",
              "\n",
              "    .dataframe thead th {\n",
              "        text-align: right;\n",
              "    }\n",
              "</style>\n",
              "<table border=\"1\" class=\"dataframe\">\n",
              "  <thead>\n",
              "    <tr style=\"text-align: right;\">\n",
              "      <th></th>\n",
              "      <th>Actual</th>\n",
              "      <th>Predicted</th>\n",
              "    </tr>\n",
              "  </thead>\n",
              "  <tbody>\n",
              "    <tr>\n",
              "      <th>0</th>\n",
              "      <td>2</td>\n",
              "      <td>1</td>\n",
              "    </tr>\n",
              "    <tr>\n",
              "      <th>1</th>\n",
              "      <td>2</td>\n",
              "      <td>1</td>\n",
              "    </tr>\n",
              "    <tr>\n",
              "      <th>2</th>\n",
              "      <td>1</td>\n",
              "      <td>2</td>\n",
              "    </tr>\n",
              "    <tr>\n",
              "      <th>3</th>\n",
              "      <td>2</td>\n",
              "      <td>1</td>\n",
              "    </tr>\n",
              "    <tr>\n",
              "      <th>4</th>\n",
              "      <td>2</td>\n",
              "      <td>2</td>\n",
              "    </tr>\n",
              "    <tr>\n",
              "      <th>...</th>\n",
              "      <td>...</td>\n",
              "      <td>...</td>\n",
              "    </tr>\n",
              "    <tr>\n",
              "      <th>5230</th>\n",
              "      <td>2</td>\n",
              "      <td>2</td>\n",
              "    </tr>\n",
              "    <tr>\n",
              "      <th>5231</th>\n",
              "      <td>2</td>\n",
              "      <td>2</td>\n",
              "    </tr>\n",
              "    <tr>\n",
              "      <th>5232</th>\n",
              "      <td>2</td>\n",
              "      <td>2</td>\n",
              "    </tr>\n",
              "    <tr>\n",
              "      <th>5233</th>\n",
              "      <td>2</td>\n",
              "      <td>2</td>\n",
              "    </tr>\n",
              "    <tr>\n",
              "      <th>5234</th>\n",
              "      <td>1</td>\n",
              "      <td>1</td>\n",
              "    </tr>\n",
              "  </tbody>\n",
              "</table>\n",
              "<p>5235 rows × 2 columns</p>\n",
              "</div>"
            ],
            "text/plain": [
              "      Actual  Predicted\n",
              "0          2          1\n",
              "1          2          1\n",
              "2          1          2\n",
              "3          2          1\n",
              "4          2          2\n",
              "...      ...        ...\n",
              "5230       2          2\n",
              "5231       2          2\n",
              "5232       2          2\n",
              "5233       2          2\n",
              "5234       1          1\n",
              "\n",
              "[5235 rows x 2 columns]"
            ]
          },
          "metadata": {
            "tags": []
          },
          "execution_count": 69
        }
      ]
    },
    {
      "cell_type": "code",
      "metadata": {
        "colab": {
          "base_uri": "https://localhost:8080/"
        },
        "id": "ThshDhptd1Q3",
        "outputId": "b15a137f-0d1d-4e34-8885-4fca02659edb"
      },
      "source": [
        "#Evaluate the performance of the model\n",
        "score_metric=le.score(X_test,y_test)\n",
        "print('Model Accuracy: %.2f%%' %(score_metric*100) )\n",
        "\n",
        "print('********')\n",
        "confusionMatrix=confusion_matrix(y_test,y_pred)\n",
        "confusionMatrix"
      ],
      "execution_count": null,
      "outputs": [
        {
          "output_type": "stream",
          "text": [
            "Model Accuracy: 55.13%\n",
            "********\n"
          ],
          "name": "stdout"
        },
        {
          "output_type": "execute_result",
          "data": {
            "text/plain": [
              "array([[   0,  433,  883],\n",
              "       [   0,  935,  612],\n",
              "       [   0,  421, 1951]])"
            ]
          },
          "metadata": {
            "tags": []
          },
          "execution_count": 70
        }
      ]
    },
    {
      "cell_type": "markdown",
      "metadata": {
        "id": "gimhBR8eeeTL"
      },
      "source": [
        "From the confusion matrix above, we can see that the model was not able to predict accurately\n",
        "\n",
        "i.e the values of false negative and false positive were high"
      ]
    },
    {
      "cell_type": "markdown",
      "metadata": {
        "id": "rMHyRm4fncBq"
      },
      "source": [
        "### CROSS VALIDATION "
      ]
    },
    {
      "cell_type": "code",
      "metadata": {
        "colab": {
          "base_uri": "https://localhost:8080/"
        },
        "id": "c9Ysx_Ydne8t",
        "outputId": "c7084f5a-b3ee-4658-a41c-21a938a530cf"
      },
      "source": [
        "kf=KFold(n_splits=10,random_state=100,shuffle=True)\n",
        "model_kfold=LogisticRegression()\n",
        "from sklearn import model_selection\n",
        "results_kfold=model_selection.cross_val_score(model_kfold,X,y,cv=kf)\n",
        "print('Model Accuracy: %.2f%%' %(results_kfold.mean()*100) )"
      ],
      "execution_count": null,
      "outputs": [
        {
          "output_type": "stream",
          "text": [
            "/usr/local/lib/python3.7/dist-packages/sklearn/linear_model/_logistic.py:940: ConvergenceWarning: lbfgs failed to converge (status=1):\n",
            "STOP: TOTAL NO. of ITERATIONS REACHED LIMIT.\n",
            "\n",
            "Increase the number of iterations (max_iter) or scale the data as shown in:\n",
            "    https://scikit-learn.org/stable/modules/preprocessing.html\n",
            "Please also refer to the documentation for alternative solver options:\n",
            "    https://scikit-learn.org/stable/modules/linear_model.html#logistic-regression\n",
            "  extra_warning_msg=_LOGISTIC_SOLVER_CONVERGENCE_MSG)\n",
            "/usr/local/lib/python3.7/dist-packages/sklearn/linear_model/_logistic.py:940: ConvergenceWarning: lbfgs failed to converge (status=1):\n",
            "STOP: TOTAL NO. of ITERATIONS REACHED LIMIT.\n",
            "\n",
            "Increase the number of iterations (max_iter) or scale the data as shown in:\n",
            "    https://scikit-learn.org/stable/modules/preprocessing.html\n",
            "Please also refer to the documentation for alternative solver options:\n",
            "    https://scikit-learn.org/stable/modules/linear_model.html#logistic-regression\n",
            "  extra_warning_msg=_LOGISTIC_SOLVER_CONVERGENCE_MSG)\n",
            "/usr/local/lib/python3.7/dist-packages/sklearn/linear_model/_logistic.py:940: ConvergenceWarning: lbfgs failed to converge (status=1):\n",
            "STOP: TOTAL NO. of ITERATIONS REACHED LIMIT.\n",
            "\n",
            "Increase the number of iterations (max_iter) or scale the data as shown in:\n",
            "    https://scikit-learn.org/stable/modules/preprocessing.html\n",
            "Please also refer to the documentation for alternative solver options:\n",
            "    https://scikit-learn.org/stable/modules/linear_model.html#logistic-regression\n",
            "  extra_warning_msg=_LOGISTIC_SOLVER_CONVERGENCE_MSG)\n",
            "/usr/local/lib/python3.7/dist-packages/sklearn/linear_model/_logistic.py:940: ConvergenceWarning: lbfgs failed to converge (status=1):\n",
            "STOP: TOTAL NO. of ITERATIONS REACHED LIMIT.\n",
            "\n",
            "Increase the number of iterations (max_iter) or scale the data as shown in:\n",
            "    https://scikit-learn.org/stable/modules/preprocessing.html\n",
            "Please also refer to the documentation for alternative solver options:\n",
            "    https://scikit-learn.org/stable/modules/linear_model.html#logistic-regression\n",
            "  extra_warning_msg=_LOGISTIC_SOLVER_CONVERGENCE_MSG)\n",
            "/usr/local/lib/python3.7/dist-packages/sklearn/linear_model/_logistic.py:940: ConvergenceWarning: lbfgs failed to converge (status=1):\n",
            "STOP: TOTAL NO. of ITERATIONS REACHED LIMIT.\n",
            "\n",
            "Increase the number of iterations (max_iter) or scale the data as shown in:\n",
            "    https://scikit-learn.org/stable/modules/preprocessing.html\n",
            "Please also refer to the documentation for alternative solver options:\n",
            "    https://scikit-learn.org/stable/modules/linear_model.html#logistic-regression\n",
            "  extra_warning_msg=_LOGISTIC_SOLVER_CONVERGENCE_MSG)\n",
            "/usr/local/lib/python3.7/dist-packages/sklearn/linear_model/_logistic.py:940: ConvergenceWarning: lbfgs failed to converge (status=1):\n",
            "STOP: TOTAL NO. of ITERATIONS REACHED LIMIT.\n",
            "\n",
            "Increase the number of iterations (max_iter) or scale the data as shown in:\n",
            "    https://scikit-learn.org/stable/modules/preprocessing.html\n",
            "Please also refer to the documentation for alternative solver options:\n",
            "    https://scikit-learn.org/stable/modules/linear_model.html#logistic-regression\n",
            "  extra_warning_msg=_LOGISTIC_SOLVER_CONVERGENCE_MSG)\n",
            "/usr/local/lib/python3.7/dist-packages/sklearn/linear_model/_logistic.py:940: ConvergenceWarning: lbfgs failed to converge (status=1):\n",
            "STOP: TOTAL NO. of ITERATIONS REACHED LIMIT.\n",
            "\n",
            "Increase the number of iterations (max_iter) or scale the data as shown in:\n",
            "    https://scikit-learn.org/stable/modules/preprocessing.html\n",
            "Please also refer to the documentation for alternative solver options:\n",
            "    https://scikit-learn.org/stable/modules/linear_model.html#logistic-regression\n",
            "  extra_warning_msg=_LOGISTIC_SOLVER_CONVERGENCE_MSG)\n",
            "/usr/local/lib/python3.7/dist-packages/sklearn/linear_model/_logistic.py:940: ConvergenceWarning: lbfgs failed to converge (status=1):\n",
            "STOP: TOTAL NO. of ITERATIONS REACHED LIMIT.\n",
            "\n",
            "Increase the number of iterations (max_iter) or scale the data as shown in:\n",
            "    https://scikit-learn.org/stable/modules/preprocessing.html\n",
            "Please also refer to the documentation for alternative solver options:\n",
            "    https://scikit-learn.org/stable/modules/linear_model.html#logistic-regression\n",
            "  extra_warning_msg=_LOGISTIC_SOLVER_CONVERGENCE_MSG)\n",
            "/usr/local/lib/python3.7/dist-packages/sklearn/linear_model/_logistic.py:940: ConvergenceWarning: lbfgs failed to converge (status=1):\n",
            "STOP: TOTAL NO. of ITERATIONS REACHED LIMIT.\n",
            "\n",
            "Increase the number of iterations (max_iter) or scale the data as shown in:\n",
            "    https://scikit-learn.org/stable/modules/preprocessing.html\n",
            "Please also refer to the documentation for alternative solver options:\n",
            "    https://scikit-learn.org/stable/modules/linear_model.html#logistic-regression\n",
            "  extra_warning_msg=_LOGISTIC_SOLVER_CONVERGENCE_MSG)\n"
          ],
          "name": "stderr"
        },
        {
          "output_type": "stream",
          "text": [
            "Model Accuracy: 55.04%\n"
          ],
          "name": "stdout"
        },
        {
          "output_type": "stream",
          "text": [
            "/usr/local/lib/python3.7/dist-packages/sklearn/linear_model/_logistic.py:940: ConvergenceWarning: lbfgs failed to converge (status=1):\n",
            "STOP: TOTAL NO. of ITERATIONS REACHED LIMIT.\n",
            "\n",
            "Increase the number of iterations (max_iter) or scale the data as shown in:\n",
            "    https://scikit-learn.org/stable/modules/preprocessing.html\n",
            "Please also refer to the documentation for alternative solver options:\n",
            "    https://scikit-learn.org/stable/modules/linear_model.html#logistic-regression\n",
            "  extra_warning_msg=_LOGISTIC_SOLVER_CONVERGENCE_MSG)\n"
          ],
          "name": "stderr"
        }
      ]
    },
    {
      "cell_type": "markdown",
      "metadata": {
        "id": "VVgM-kHMi8SY"
      },
      "source": [
        "### Polynomial Regression"
      ]
    },
    {
      "cell_type": "markdown",
      "metadata": {
        "id": "MLnr9U9ikR9z"
      },
      "source": [
        "##### Goals scored by home Team"
      ]
    },
    {
      "cell_type": "code",
      "metadata": {
        "id": "IIiR1OMZjV8z"
      },
      "source": [
        "X1=merged3[['neutral','confederation','home_rank','tournament','away_team']]\n",
        "y1=merged3['home_score']"
      ],
      "execution_count": null,
      "outputs": []
    },
    {
      "cell_type": "code",
      "metadata": {
        "colab": {
          "base_uri": "https://localhost:8080/",
          "height": 204
        },
        "id": "ukEDrC8Bnxbj",
        "outputId": "ac85f41a-4b5e-4274-a375-ac17bb468a43"
      },
      "source": [
        "X1.corr()\n",
        "\n",
        "#the is no high correlation between the variables\n",
        "#this means that there is no multicolinarity among them\n",
        "#multicolliniarity occurs where the independnent variables are correlated"
      ],
      "execution_count": null,
      "outputs": [
        {
          "output_type": "execute_result",
          "data": {
            "text/html": [
              "<div>\n",
              "<style scoped>\n",
              "    .dataframe tbody tr th:only-of-type {\n",
              "        vertical-align: middle;\n",
              "    }\n",
              "\n",
              "    .dataframe tbody tr th {\n",
              "        vertical-align: top;\n",
              "    }\n",
              "\n",
              "    .dataframe thead th {\n",
              "        text-align: right;\n",
              "    }\n",
              "</style>\n",
              "<table border=\"1\" class=\"dataframe\">\n",
              "  <thead>\n",
              "    <tr style=\"text-align: right;\">\n",
              "      <th></th>\n",
              "      <th>neutral</th>\n",
              "      <th>confederation</th>\n",
              "      <th>home_rank</th>\n",
              "      <th>tournament</th>\n",
              "      <th>away_team</th>\n",
              "    </tr>\n",
              "  </thead>\n",
              "  <tbody>\n",
              "    <tr>\n",
              "      <th>neutral</th>\n",
              "      <td>1.000000</td>\n",
              "      <td>-0.121631</td>\n",
              "      <td>-0.010957</td>\n",
              "      <td>-0.066956</td>\n",
              "      <td>0.052265</td>\n",
              "    </tr>\n",
              "    <tr>\n",
              "      <th>confederation</th>\n",
              "      <td>-0.121631</td>\n",
              "      <td>1.000000</td>\n",
              "      <td>-0.366863</td>\n",
              "      <td>0.368751</td>\n",
              "      <td>-0.108077</td>\n",
              "    </tr>\n",
              "    <tr>\n",
              "      <th>home_rank</th>\n",
              "      <td>-0.010957</td>\n",
              "      <td>-0.366863</td>\n",
              "      <td>1.000000</td>\n",
              "      <td>-0.111621</td>\n",
              "      <td>0.055919</td>\n",
              "    </tr>\n",
              "    <tr>\n",
              "      <th>tournament</th>\n",
              "      <td>-0.066956</td>\n",
              "      <td>0.368751</td>\n",
              "      <td>-0.111621</td>\n",
              "      <td>1.000000</td>\n",
              "      <td>-0.039881</td>\n",
              "    </tr>\n",
              "    <tr>\n",
              "      <th>away_team</th>\n",
              "      <td>0.052265</td>\n",
              "      <td>-0.108077</td>\n",
              "      <td>0.055919</td>\n",
              "      <td>-0.039881</td>\n",
              "      <td>1.000000</td>\n",
              "    </tr>\n",
              "  </tbody>\n",
              "</table>\n",
              "</div>"
            ],
            "text/plain": [
              "                neutral  confederation  home_rank  tournament  away_team\n",
              "neutral        1.000000      -0.121631  -0.010957   -0.066956   0.052265\n",
              "confederation -0.121631       1.000000  -0.366863    0.368751  -0.108077\n",
              "home_rank     -0.010957      -0.366863   1.000000   -0.111621   0.055919\n",
              "tournament    -0.066956       0.368751  -0.111621    1.000000  -0.039881\n",
              "away_team      0.052265      -0.108077   0.055919   -0.039881   1.000000"
            ]
          },
          "metadata": {
            "tags": []
          },
          "execution_count": 80
        }
      ]
    },
    {
      "cell_type": "code",
      "metadata": {
        "colab": {
          "base_uri": "https://localhost:8080/"
        },
        "id": "cvOv76hcobh6",
        "outputId": "af3e94ea-b7ee-4e53-8e21-53df013f1353"
      },
      "source": [
        "X1_train,y1_train,X1_test,y1_test=train_test_split(X1,y1,test_size=0.3,random_state=42)\n",
        "pr=PolynomialFeatures(degree=4)\n",
        "le=LinearRegression()\n",
        "X1_poly=pr.fit_transform(X1)\n",
        "pr=le\n",
        "pr.fit(X1_poly,y1)\n",
        "\n",
        "#to predict\n",
        "y_pred=pr.predict(X1_poly)\n",
        "#to evaluatet the model\n",
        "\n",
        "from sklearn.metrics import mean_squared_error,r2_score\n",
        "rmse=np.sqrt(mean_squared_error(y,y_pred))\n",
        "r2=r2_score(y,y_pred)\n",
        "\n",
        "print('r-squared',r2)\n",
        "print('root mean squared error',rmse)\n",
        "print('mean of our dependent variable',merged3['home_score'].mean())\n",
        "\n",
        "#the rmse is above half of the mean of our dependnent variable\n",
        "#this means that our model is not appropriate to predict the goals scored by the away team"
      ],
      "execution_count": null,
      "outputs": [
        {
          "output_type": "stream",
          "text": [
            "r-squared -0.04907240176474592\n",
            "root mean squared error 0.8384817087728996\n",
            "mean of our dependent variable 1.3596836434493562\n"
          ],
          "name": "stdout"
        }
      ]
    },
    {
      "cell_type": "markdown",
      "metadata": {
        "id": "dln6n5PVsXYX"
      },
      "source": [
        "##### Goals Scored by Away Team"
      ]
    },
    {
      "cell_type": "code",
      "metadata": {
        "id": "rogXQVqIsPGm"
      },
      "source": [
        "X2=merged3[['matchstatus','away_rank','away_team']]\n",
        "y2=merged3['away_score']"
      ],
      "execution_count": null,
      "outputs": []
    },
    {
      "cell_type": "code",
      "metadata": {
        "colab": {
          "base_uri": "https://localhost:8080/",
          "height": 142
        },
        "id": "tGz-Xf7_tDdY",
        "outputId": "d593846b-0fb0-46be-f806-e30727fafdb4"
      },
      "source": [
        "X2.corr()\n",
        "\n",
        "#the is no high correlation between the variables\n",
        "#this means that there is no multicolinarity among them\n",
        "#multicolliniarity occurs where the independnent variables are correlated"
      ],
      "execution_count": null,
      "outputs": [
        {
          "output_type": "execute_result",
          "data": {
            "text/html": [
              "<div>\n",
              "<style scoped>\n",
              "    .dataframe tbody tr th:only-of-type {\n",
              "        vertical-align: middle;\n",
              "    }\n",
              "\n",
              "    .dataframe tbody tr th {\n",
              "        vertical-align: top;\n",
              "    }\n",
              "\n",
              "    .dataframe thead th {\n",
              "        text-align: right;\n",
              "    }\n",
              "</style>\n",
              "<table border=\"1\" class=\"dataframe\">\n",
              "  <thead>\n",
              "    <tr style=\"text-align: right;\">\n",
              "      <th></th>\n",
              "      <th>matchstatus</th>\n",
              "      <th>away_rank</th>\n",
              "      <th>away_team</th>\n",
              "    </tr>\n",
              "  </thead>\n",
              "  <tbody>\n",
              "    <tr>\n",
              "      <th>matchstatus</th>\n",
              "      <td>1.000000</td>\n",
              "      <td>0.168386</td>\n",
              "      <td>-0.012237</td>\n",
              "    </tr>\n",
              "    <tr>\n",
              "      <th>away_rank</th>\n",
              "      <td>0.168386</td>\n",
              "      <td>1.000000</td>\n",
              "      <td>0.013918</td>\n",
              "    </tr>\n",
              "    <tr>\n",
              "      <th>away_team</th>\n",
              "      <td>-0.012237</td>\n",
              "      <td>0.013918</td>\n",
              "      <td>1.000000</td>\n",
              "    </tr>\n",
              "  </tbody>\n",
              "</table>\n",
              "</div>"
            ],
            "text/plain": [
              "             matchstatus  away_rank  away_team\n",
              "matchstatus     1.000000   0.168386  -0.012237\n",
              "away_rank       0.168386   1.000000   0.013918\n",
              "away_team      -0.012237   0.013918   1.000000"
            ]
          },
          "metadata": {
            "tags": []
          },
          "execution_count": 84
        }
      ]
    },
    {
      "cell_type": "code",
      "metadata": {
        "colab": {
          "base_uri": "https://localhost:8080/"
        },
        "id": "GXXNZ6ZktHpv",
        "outputId": "3318dd79-1c96-4ebd-f421-068838b80f0c"
      },
      "source": [
        "X1_train,y1_train,X1_test,y1_test=train_test_split(X1,y1,test_size=0.3,random_state=42)\n",
        "pr=PolynomialFeatures(degree=4)\n",
        "le=LinearRegression()\n",
        "X1_poly=pr.fit_transform(X1)\n",
        "pr=le\n",
        "pr.fit(X1_poly,y1)\n",
        "\n",
        "#to predict\n",
        "y_pred=pr.predict(X1_poly)\n",
        "#to evaluatet the model\n",
        "\n",
        "from sklearn.metrics import mean_squared_error,r2_score\n",
        "rmse=np.sqrt(mean_squared_error(y,y_pred))\n",
        "r2=r2_score(y,y_pred)\n",
        "\n",
        "print('r-squared',r2)\n",
        "print('root mean squared error',rmse)\n",
        "print('mean of the independnet variable',merged3['away_score'].mean())\n",
        "\n",
        "#the rmse is above half of the mean of our dependnent variable\n",
        "#this means that our model is not appropriate to predict the goals scored by the away team"
      ],
      "execution_count": null,
      "outputs": [
        {
          "output_type": "stream",
          "text": [
            "root mean squared error 0.8384817087728996\n",
            "r-squared -0.04907240176474592\n"
          ],
          "name": "stdout"
        }
      ]
    }
  ]
}